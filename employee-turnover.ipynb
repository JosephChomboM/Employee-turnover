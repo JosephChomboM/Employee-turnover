{
 "cells": [
  {
   "cell_type": "code",
   "execution_count": 1,
   "id": "6e02b49d",
   "metadata": {
    "_cell_guid": "b1076dfc-b9ad-4769-8c92-a6c4dae69d19",
    "_uuid": "8f2839f25d086af736a60e9eeb907d3b93b6e0e5",
    "execution": {
     "iopub.execute_input": "2024-01-25T22:27:50.132081Z",
     "iopub.status.busy": "2024-01-25T22:27:50.131461Z",
     "iopub.status.idle": "2024-01-25T22:27:50.466989Z",
     "shell.execute_reply": "2024-01-25T22:27:50.465596Z"
    },
    "papermill": {
     "duration": 0.349955,
     "end_time": "2024-01-25T22:27:50.469630",
     "exception": false,
     "start_time": "2024-01-25T22:27:50.119675",
     "status": "completed"
    },
    "tags": []
   },
   "outputs": [
    {
     "name": "stdout",
     "output_type": "stream",
     "text": [
      "/kaggle/input/practiceemployeeabandonment/AbandonoEmpleados.csv\n"
     ]
    }
   ],
   "source": [
    "import numpy as np # linear algebra\n",
    "import pandas as pd # data processing, CSV file I/O (e.g. pd.read_csv)\n",
    "\n",
    "import os\n",
    "for dirname, _, filenames in os.walk('/kaggle/input'):\n",
    "    for filename in filenames:\n",
    "        print(os.path.join(dirname, filename))\n",
    "\n"
   ]
  },
  {
   "cell_type": "code",
   "execution_count": 2,
   "id": "5b502b13",
   "metadata": {
    "execution": {
     "iopub.execute_input": "2024-01-25T22:27:50.493334Z",
     "iopub.status.busy": "2024-01-25T22:27:50.492820Z",
     "iopub.status.idle": "2024-01-25T22:27:51.854751Z",
     "shell.execute_reply": "2024-01-25T22:27:51.853793Z"
    },
    "papermill": {
     "duration": 1.376542,
     "end_time": "2024-01-25T22:27:51.857499",
     "exception": false,
     "start_time": "2024-01-25T22:27:50.480957",
     "status": "completed"
    },
    "tags": []
   },
   "outputs": [],
   "source": [
    "import seaborn as sns\n",
    "import matplotlib.pyplot as plt\n"
   ]
  },
  {
   "cell_type": "code",
   "execution_count": 3,
   "id": "f842723d",
   "metadata": {
    "execution": {
     "iopub.execute_input": "2024-01-25T22:27:51.877777Z",
     "iopub.status.busy": "2024-01-25T22:27:51.877218Z",
     "iopub.status.idle": "2024-01-25T22:27:51.952585Z",
     "shell.execute_reply": "2024-01-25T22:27:51.951898Z"
    },
    "papermill": {
     "duration": 0.088575,
     "end_time": "2024-01-25T22:27:51.955326",
     "exception": false,
     "start_time": "2024-01-25T22:27:51.866751",
     "status": "completed"
    },
    "tags": []
   },
   "outputs": [
    {
     "data": {
      "text/html": [
       "<div>\n",
       "<style scoped>\n",
       "    .dataframe tbody tr th:only-of-type {\n",
       "        vertical-align: middle;\n",
       "    }\n",
       "\n",
       "    .dataframe tbody tr th {\n",
       "        vertical-align: top;\n",
       "    }\n",
       "\n",
       "    .dataframe thead th {\n",
       "        text-align: right;\n",
       "    }\n",
       "</style>\n",
       "<table border=\"1\" class=\"dataframe\">\n",
       "  <thead>\n",
       "    <tr style=\"text-align: right;\">\n",
       "      <th></th>\n",
       "      <th>edad</th>\n",
       "      <th>abandono</th>\n",
       "      <th>viajes</th>\n",
       "      <th>departamento</th>\n",
       "      <th>distancia_casa</th>\n",
       "      <th>educacion</th>\n",
       "      <th>carrera</th>\n",
       "      <th>empleados</th>\n",
       "      <th>satisfaccion_entorno</th>\n",
       "      <th>sexo</th>\n",
       "      <th>...</th>\n",
       "      <th>satisfaccion_companeros</th>\n",
       "      <th>horas_quincena</th>\n",
       "      <th>nivel_acciones</th>\n",
       "      <th>anos_experiencia</th>\n",
       "      <th>num_formaciones_ult_ano</th>\n",
       "      <th>conciliacion</th>\n",
       "      <th>anos_compania</th>\n",
       "      <th>anos_en_puesto</th>\n",
       "      <th>anos_desde_ult_promocion</th>\n",
       "      <th>anos_con_manager_actual</th>\n",
       "    </tr>\n",
       "    <tr>\n",
       "      <th>id</th>\n",
       "      <th></th>\n",
       "      <th></th>\n",
       "      <th></th>\n",
       "      <th></th>\n",
       "      <th></th>\n",
       "      <th></th>\n",
       "      <th></th>\n",
       "      <th></th>\n",
       "      <th></th>\n",
       "      <th></th>\n",
       "      <th></th>\n",
       "      <th></th>\n",
       "      <th></th>\n",
       "      <th></th>\n",
       "      <th></th>\n",
       "      <th></th>\n",
       "      <th></th>\n",
       "      <th></th>\n",
       "      <th></th>\n",
       "      <th></th>\n",
       "      <th></th>\n",
       "    </tr>\n",
       "  </thead>\n",
       "  <tbody>\n",
       "    <tr>\n",
       "      <th>1</th>\n",
       "      <td>41</td>\n",
       "      <td>Yes</td>\n",
       "      <td>Travel_Rarely</td>\n",
       "      <td>Sales</td>\n",
       "      <td>1</td>\n",
       "      <td>Universitaria</td>\n",
       "      <td>Life Sciences</td>\n",
       "      <td>1</td>\n",
       "      <td>Media</td>\n",
       "      <td>3.0</td>\n",
       "      <td>...</td>\n",
       "      <td>Baja</td>\n",
       "      <td>80</td>\n",
       "      <td>0</td>\n",
       "      <td>8</td>\n",
       "      <td>0</td>\n",
       "      <td>NaN</td>\n",
       "      <td>6</td>\n",
       "      <td>NaN</td>\n",
       "      <td>0</td>\n",
       "      <td>5</td>\n",
       "    </tr>\n",
       "    <tr>\n",
       "      <th>2</th>\n",
       "      <td>49</td>\n",
       "      <td>No</td>\n",
       "      <td>Travel_Frequently</td>\n",
       "      <td>Research &amp; Development</td>\n",
       "      <td>8</td>\n",
       "      <td>Secundaria</td>\n",
       "      <td>Life Sciences</td>\n",
       "      <td>1</td>\n",
       "      <td>Alta</td>\n",
       "      <td>2.0</td>\n",
       "      <td>...</td>\n",
       "      <td>Muy_Alta</td>\n",
       "      <td>80</td>\n",
       "      <td>1</td>\n",
       "      <td>10</td>\n",
       "      <td>3</td>\n",
       "      <td>NaN</td>\n",
       "      <td>10</td>\n",
       "      <td>NaN</td>\n",
       "      <td>1</td>\n",
       "      <td>7</td>\n",
       "    </tr>\n",
       "    <tr>\n",
       "      <th>4</th>\n",
       "      <td>37</td>\n",
       "      <td>Yes</td>\n",
       "      <td>Travel_Rarely</td>\n",
       "      <td>Research &amp; Development</td>\n",
       "      <td>2</td>\n",
       "      <td>Secundaria</td>\n",
       "      <td>Other</td>\n",
       "      <td>1</td>\n",
       "      <td>Muy_Alta</td>\n",
       "      <td>2.0</td>\n",
       "      <td>...</td>\n",
       "      <td>Media</td>\n",
       "      <td>80</td>\n",
       "      <td>0</td>\n",
       "      <td>7</td>\n",
       "      <td>3</td>\n",
       "      <td>NaN</td>\n",
       "      <td>0</td>\n",
       "      <td>2.0</td>\n",
       "      <td>0</td>\n",
       "      <td>0</td>\n",
       "    </tr>\n",
       "    <tr>\n",
       "      <th>5</th>\n",
       "      <td>33</td>\n",
       "      <td>No</td>\n",
       "      <td>Travel_Frequently</td>\n",
       "      <td>Research &amp; Development</td>\n",
       "      <td>3</td>\n",
       "      <td>Universitaria</td>\n",
       "      <td>Life Sciences</td>\n",
       "      <td>1</td>\n",
       "      <td>Muy_Alta</td>\n",
       "      <td>3.0</td>\n",
       "      <td>...</td>\n",
       "      <td>Alta</td>\n",
       "      <td>80</td>\n",
       "      <td>0</td>\n",
       "      <td>8</td>\n",
       "      <td>3</td>\n",
       "      <td>NaN</td>\n",
       "      <td>8</td>\n",
       "      <td>3.0</td>\n",
       "      <td>3</td>\n",
       "      <td>0</td>\n",
       "    </tr>\n",
       "    <tr>\n",
       "      <th>7</th>\n",
       "      <td>27</td>\n",
       "      <td>No</td>\n",
       "      <td>Travel_Rarely</td>\n",
       "      <td>Research &amp; Development</td>\n",
       "      <td>2</td>\n",
       "      <td>Universitaria</td>\n",
       "      <td>Medical</td>\n",
       "      <td>1</td>\n",
       "      <td>Baja</td>\n",
       "      <td>3.0</td>\n",
       "      <td>...</td>\n",
       "      <td>Muy_Alta</td>\n",
       "      <td>80</td>\n",
       "      <td>1</td>\n",
       "      <td>6</td>\n",
       "      <td>3</td>\n",
       "      <td>NaN</td>\n",
       "      <td>2</td>\n",
       "      <td>NaN</td>\n",
       "      <td>2</td>\n",
       "      <td>2</td>\n",
       "    </tr>\n",
       "    <tr>\n",
       "      <th>...</th>\n",
       "      <td>...</td>\n",
       "      <td>...</td>\n",
       "      <td>...</td>\n",
       "      <td>...</td>\n",
       "      <td>...</td>\n",
       "      <td>...</td>\n",
       "      <td>...</td>\n",
       "      <td>...</td>\n",
       "      <td>...</td>\n",
       "      <td>...</td>\n",
       "      <td>...</td>\n",
       "      <td>...</td>\n",
       "      <td>...</td>\n",
       "      <td>...</td>\n",
       "      <td>...</td>\n",
       "      <td>...</td>\n",
       "      <td>...</td>\n",
       "      <td>...</td>\n",
       "      <td>...</td>\n",
       "      <td>...</td>\n",
       "      <td>...</td>\n",
       "    </tr>\n",
       "    <tr>\n",
       "      <th>2061</th>\n",
       "      <td>36</td>\n",
       "      <td>No</td>\n",
       "      <td>Travel_Frequently</td>\n",
       "      <td>Research &amp; Development</td>\n",
       "      <td>23</td>\n",
       "      <td>Master</td>\n",
       "      <td>Medical</td>\n",
       "      <td>1</td>\n",
       "      <td>Alta</td>\n",
       "      <td>4.0</td>\n",
       "      <td>...</td>\n",
       "      <td>Alta</td>\n",
       "      <td>80</td>\n",
       "      <td>1</td>\n",
       "      <td>17</td>\n",
       "      <td>3</td>\n",
       "      <td>NaN</td>\n",
       "      <td>5</td>\n",
       "      <td>4.0</td>\n",
       "      <td>0</td>\n",
       "      <td>3</td>\n",
       "    </tr>\n",
       "    <tr>\n",
       "      <th>2062</th>\n",
       "      <td>39</td>\n",
       "      <td>No</td>\n",
       "      <td>Travel_Rarely</td>\n",
       "      <td>Research &amp; Development</td>\n",
       "      <td>6</td>\n",
       "      <td>Secundaria</td>\n",
       "      <td>Medical</td>\n",
       "      <td>1</td>\n",
       "      <td>Muy_Alta</td>\n",
       "      <td>2.0</td>\n",
       "      <td>...</td>\n",
       "      <td>Baja</td>\n",
       "      <td>80</td>\n",
       "      <td>1</td>\n",
       "      <td>9</td>\n",
       "      <td>5</td>\n",
       "      <td>NaN</td>\n",
       "      <td>7</td>\n",
       "      <td>NaN</td>\n",
       "      <td>1</td>\n",
       "      <td>7</td>\n",
       "    </tr>\n",
       "    <tr>\n",
       "      <th>2064</th>\n",
       "      <td>27</td>\n",
       "      <td>No</td>\n",
       "      <td>Travel_Rarely</td>\n",
       "      <td>Research &amp; Development</td>\n",
       "      <td>4</td>\n",
       "      <td>Master</td>\n",
       "      <td>Life Sciences</td>\n",
       "      <td>1</td>\n",
       "      <td>Media</td>\n",
       "      <td>4.0</td>\n",
       "      <td>...</td>\n",
       "      <td>Media</td>\n",
       "      <td>80</td>\n",
       "      <td>1</td>\n",
       "      <td>6</td>\n",
       "      <td>0</td>\n",
       "      <td>NaN</td>\n",
       "      <td>6</td>\n",
       "      <td>NaN</td>\n",
       "      <td>0</td>\n",
       "      <td>3</td>\n",
       "    </tr>\n",
       "    <tr>\n",
       "      <th>2065</th>\n",
       "      <td>49</td>\n",
       "      <td>No</td>\n",
       "      <td>Travel_Frequently</td>\n",
       "      <td>Sales</td>\n",
       "      <td>2</td>\n",
       "      <td>Secundaria</td>\n",
       "      <td>Medical</td>\n",
       "      <td>1</td>\n",
       "      <td>Muy_Alta</td>\n",
       "      <td>NaN</td>\n",
       "      <td>...</td>\n",
       "      <td>Muy_Alta</td>\n",
       "      <td>80</td>\n",
       "      <td>0</td>\n",
       "      <td>17</td>\n",
       "      <td>3</td>\n",
       "      <td>NaN</td>\n",
       "      <td>9</td>\n",
       "      <td>NaN</td>\n",
       "      <td>0</td>\n",
       "      <td>8</td>\n",
       "    </tr>\n",
       "    <tr>\n",
       "      <th>2068</th>\n",
       "      <td>34</td>\n",
       "      <td>No</td>\n",
       "      <td>Travel_Rarely</td>\n",
       "      <td>Research &amp; Development</td>\n",
       "      <td>8</td>\n",
       "      <td>NaN</td>\n",
       "      <td>Medical</td>\n",
       "      <td>1</td>\n",
       "      <td>Media</td>\n",
       "      <td>4.0</td>\n",
       "      <td>...</td>\n",
       "      <td>Baja</td>\n",
       "      <td>80</td>\n",
       "      <td>0</td>\n",
       "      <td>6</td>\n",
       "      <td>3</td>\n",
       "      <td>Muy_Alta</td>\n",
       "      <td>4</td>\n",
       "      <td>NaN</td>\n",
       "      <td>1</td>\n",
       "      <td>2</td>\n",
       "    </tr>\n",
       "  </tbody>\n",
       "</table>\n",
       "<p>1470 rows × 31 columns</p>\n",
       "</div>"
      ],
      "text/plain": [
       "      edad abandono             viajes            departamento  \\\n",
       "id                                                               \n",
       "1       41      Yes      Travel_Rarely                   Sales   \n",
       "2       49       No  Travel_Frequently  Research & Development   \n",
       "4       37      Yes      Travel_Rarely  Research & Development   \n",
       "5       33       No  Travel_Frequently  Research & Development   \n",
       "7       27       No      Travel_Rarely  Research & Development   \n",
       "...    ...      ...                ...                     ...   \n",
       "2061    36       No  Travel_Frequently  Research & Development   \n",
       "2062    39       No      Travel_Rarely  Research & Development   \n",
       "2064    27       No      Travel_Rarely  Research & Development   \n",
       "2065    49       No  Travel_Frequently                   Sales   \n",
       "2068    34       No      Travel_Rarely  Research & Development   \n",
       "\n",
       "      distancia_casa      educacion        carrera  empleados  \\\n",
       "id                                                              \n",
       "1                  1  Universitaria  Life Sciences          1   \n",
       "2                  8     Secundaria  Life Sciences          1   \n",
       "4                  2     Secundaria          Other          1   \n",
       "5                  3  Universitaria  Life Sciences          1   \n",
       "7                  2  Universitaria        Medical          1   \n",
       "...              ...            ...            ...        ...   \n",
       "2061              23         Master        Medical          1   \n",
       "2062               6     Secundaria        Medical          1   \n",
       "2064               4         Master  Life Sciences          1   \n",
       "2065               2     Secundaria        Medical          1   \n",
       "2068               8            NaN        Medical          1   \n",
       "\n",
       "     satisfaccion_entorno  sexo  ... satisfaccion_companeros  horas_quincena  \\\n",
       "id                               ...                                           \n",
       "1                   Media   3.0  ...                    Baja              80   \n",
       "2                    Alta   2.0  ...                Muy_Alta              80   \n",
       "4                Muy_Alta   2.0  ...                   Media              80   \n",
       "5                Muy_Alta   3.0  ...                    Alta              80   \n",
       "7                    Baja   3.0  ...                Muy_Alta              80   \n",
       "...                   ...   ...  ...                     ...             ...   \n",
       "2061                 Alta   4.0  ...                    Alta              80   \n",
       "2062             Muy_Alta   2.0  ...                    Baja              80   \n",
       "2064                Media   4.0  ...                   Media              80   \n",
       "2065             Muy_Alta   NaN  ...                Muy_Alta              80   \n",
       "2068                Media   4.0  ...                    Baja              80   \n",
       "\n",
       "     nivel_acciones anos_experiencia num_formaciones_ult_ano  conciliacion  \\\n",
       "id                                                                           \n",
       "1                 0                8                       0           NaN   \n",
       "2                 1               10                       3           NaN   \n",
       "4                 0                7                       3           NaN   \n",
       "5                 0                8                       3           NaN   \n",
       "7                 1                6                       3           NaN   \n",
       "...             ...              ...                     ...           ...   \n",
       "2061              1               17                       3           NaN   \n",
       "2062              1                9                       5           NaN   \n",
       "2064              1                6                       0           NaN   \n",
       "2065              0               17                       3           NaN   \n",
       "2068              0                6                       3      Muy_Alta   \n",
       "\n",
       "      anos_compania anos_en_puesto anos_desde_ult_promocion  \\\n",
       "id                                                            \n",
       "1                 6            NaN                        0   \n",
       "2                10            NaN                        1   \n",
       "4                 0            2.0                        0   \n",
       "5                 8            3.0                        3   \n",
       "7                 2            NaN                        2   \n",
       "...             ...            ...                      ...   \n",
       "2061              5            4.0                        0   \n",
       "2062              7            NaN                        1   \n",
       "2064              6            NaN                        0   \n",
       "2065              9            NaN                        0   \n",
       "2068              4            NaN                        1   \n",
       "\n",
       "      anos_con_manager_actual  \n",
       "id                             \n",
       "1                           5  \n",
       "2                           7  \n",
       "4                           0  \n",
       "5                           0  \n",
       "7                           2  \n",
       "...                       ...  \n",
       "2061                        3  \n",
       "2062                        7  \n",
       "2064                        3  \n",
       "2065                        8  \n",
       "2068                        2  \n",
       "\n",
       "[1470 rows x 31 columns]"
      ]
     },
     "execution_count": 3,
     "metadata": {},
     "output_type": "execute_result"
    }
   ],
   "source": [
    "df = pd.read_csv('/kaggle/input/practiceemployeeabandonment/AbandonoEmpleados.csv', sep =';', index_col='id', na_values='#N/D')\n",
    "df"
   ]
  },
  {
   "cell_type": "markdown",
   "id": "f01bae4c",
   "metadata": {
    "papermill": {
     "duration": 0.00818,
     "end_time": "2024-01-25T22:27:51.972672",
     "exception": false,
     "start_time": "2024-01-25T22:27:51.964492",
     "status": "completed"
    },
    "tags": []
   },
   "source": [
    "# BUSINESS ANALYTICS"
   ]
  },
  {
   "cell_type": "code",
   "execution_count": 4,
   "id": "a2efbce3",
   "metadata": {
    "execution": {
     "iopub.execute_input": "2024-01-25T22:27:51.994037Z",
     "iopub.status.busy": "2024-01-25T22:27:51.993534Z",
     "iopub.status.idle": "2024-01-25T22:27:52.090539Z",
     "shell.execute_reply": "2024-01-25T22:27:52.089556Z"
    },
    "papermill": {
     "duration": 0.112728,
     "end_time": "2024-01-25T22:27:52.093575",
     "exception": false,
     "start_time": "2024-01-25T22:27:51.980847",
     "status": "completed"
    },
    "tags": []
   },
   "outputs": [
    {
     "name": "stdout",
     "output_type": "stream",
     "text": [
      "<class 'pandas.core.frame.DataFrame'>\n",
      "Index: 1470 entries, 1 to 2068\n",
      "Data columns (total 31 columns):\n",
      " #   Column                    Non-Null Count  Dtype  \n",
      "---  ------                    --------------  -----  \n",
      " 0   edad                      1470 non-null   int64  \n",
      " 1   abandono                  1470 non-null   object \n",
      " 2   viajes                    1470 non-null   object \n",
      " 3   departamento              1470 non-null   object \n",
      " 4   distancia_casa            1470 non-null   int64  \n",
      " 5   educacion                 1369 non-null   object \n",
      " 6   carrera                   1470 non-null   object \n",
      " 7   empleados                 1470 non-null   int64  \n",
      " 8   satisfaccion_entorno      1470 non-null   object \n",
      " 9   sexo                      1271 non-null   float64\n",
      " 10  implicacion               1452 non-null   object \n",
      " 11  nivel_laboral             1470 non-null   int64  \n",
      " 12  puesto                    1470 non-null   object \n",
      " 13  satisfaccion_trabajo      1394 non-null   object \n",
      " 14  estado_civil              1470 non-null   object \n",
      " 15  salario_mes               1470 non-null   int64  \n",
      " 16  num_empresas_anteriores   1470 non-null   int64  \n",
      " 17  mayor_edad                1470 non-null   object \n",
      " 18  horas_extra               1470 non-null   object \n",
      " 19  incremento_salario_porc   1470 non-null   int64  \n",
      " 20  evaluacion                1470 non-null   object \n",
      " 21  satisfaccion_companeros   1470 non-null   object \n",
      " 22  horas_quincena            1470 non-null   int64  \n",
      " 23  nivel_acciones            1470 non-null   int64  \n",
      " 24  anos_experiencia          1470 non-null   int64  \n",
      " 25  num_formaciones_ult_ano   1470 non-null   int64  \n",
      " 26  conciliacion              459 non-null    object \n",
      " 27  anos_compania             1470 non-null   int64  \n",
      " 28  anos_en_puesto            232 non-null    float64\n",
      " 29  anos_desde_ult_promocion  1470 non-null   int64  \n",
      " 30  anos_con_manager_actual   1470 non-null   int64  \n",
      "dtypes: float64(2), int64(14), object(15)\n",
      "memory usage: 367.5+ KB\n"
     ]
    }
   ],
   "source": [
    "df.info()"
   ]
  },
  {
   "cell_type": "markdown",
   "id": "8dc29d57",
   "metadata": {
    "papermill": {
     "duration": 0.008728,
     "end_time": "2024-01-25T22:27:52.111611",
     "exception": false,
     "start_time": "2024-01-25T22:27:52.102883",
     "status": "completed"
    },
    "tags": []
   },
   "source": [
    "## Null Analysis"
   ]
  },
  {
   "cell_type": "code",
   "execution_count": 5,
   "id": "26796550",
   "metadata": {
    "execution": {
     "iopub.execute_input": "2024-01-25T22:27:52.131944Z",
     "iopub.status.busy": "2024-01-25T22:27:52.131475Z",
     "iopub.status.idle": "2024-01-25T22:27:52.143286Z",
     "shell.execute_reply": "2024-01-25T22:27:52.141964Z"
    },
    "papermill": {
     "duration": 0.024606,
     "end_time": "2024-01-25T22:27:52.145258",
     "exception": false,
     "start_time": "2024-01-25T22:27:52.120652",
     "status": "completed"
    },
    "tags": []
   },
   "outputs": [
    {
     "data": {
      "text/plain": [
       "anos_en_puesto              1238\n",
       "conciliacion                1011\n",
       "sexo                         199\n",
       "educacion                    101\n",
       "satisfaccion_trabajo          76\n",
       "implicacion                   18\n",
       "edad                           0\n",
       "nivel_acciones                 0\n",
       "evaluacion                     0\n",
       "satisfaccion_companeros        0\n",
       "horas_quincena                 0\n",
       "anos_experiencia               0\n",
       "horas_extra                    0\n",
       "num_formaciones_ult_ano        0\n",
       "anos_compania                  0\n",
       "anos_desde_ult_promocion       0\n",
       "incremento_salario_porc        0\n",
       "salario_mes                    0\n",
       "mayor_edad                     0\n",
       "num_empresas_anteriores        0\n",
       "abandono                       0\n",
       "estado_civil                   0\n",
       "puesto                         0\n",
       "nivel_laboral                  0\n",
       "satisfaccion_entorno           0\n",
       "empleados                      0\n",
       "carrera                        0\n",
       "distancia_casa                 0\n",
       "departamento                   0\n",
       "viajes                         0\n",
       "anos_con_manager_actual        0\n",
       "dtype: int64"
      ]
     },
     "execution_count": 5,
     "metadata": {},
     "output_type": "execute_result"
    }
   ],
   "source": [
    "miss = df.isna().sum().sort_values(ascending=False)\n",
    "miss"
   ]
  },
  {
   "cell_type": "code",
   "execution_count": 6,
   "id": "c1f44015",
   "metadata": {
    "execution": {
     "iopub.execute_input": "2024-01-25T22:27:52.165133Z",
     "iopub.status.busy": "2024-01-25T22:27:52.164752Z",
     "iopub.status.idle": "2024-01-25T22:27:52.173736Z",
     "shell.execute_reply": "2024-01-25T22:27:52.172593Z"
    },
    "papermill": {
     "duration": 0.021204,
     "end_time": "2024-01-25T22:27:52.175656",
     "exception": false,
     "start_time": "2024-01-25T22:27:52.154452",
     "status": "completed"
    },
    "tags": []
   },
   "outputs": [
    {
     "data": {
      "text/plain": [
       "anos_en_puesto          0.842177\n",
       "conciliacion            0.687755\n",
       "sexo                    0.135374\n",
       "educacion               0.068707\n",
       "satisfaccion_trabajo    0.051701\n",
       "implicacion             0.012245\n",
       "dtype: float64"
      ]
     },
     "execution_count": 6,
     "metadata": {},
     "output_type": "execute_result"
    }
   ],
   "source": [
    "\n",
    "miss_percentage = miss / len(df)\n",
    "filtered = miss_percentage[miss_percentage != 0]\n",
    "filtered"
   ]
  },
  {
   "cell_type": "code",
   "execution_count": 7,
   "id": "865ed950",
   "metadata": {
    "execution": {
     "iopub.execute_input": "2024-01-25T22:27:52.197134Z",
     "iopub.status.busy": "2024-01-25T22:27:52.196777Z",
     "iopub.status.idle": "2024-01-25T22:27:52.453873Z",
     "shell.execute_reply": "2024-01-25T22:27:52.453163Z"
    },
    "papermill": {
     "duration": 0.269391,
     "end_time": "2024-01-25T22:27:52.455858",
     "exception": false,
     "start_time": "2024-01-25T22:27:52.186467",
     "status": "completed"
    },
    "tags": []
   },
   "outputs": [
    {
     "data": {
      "text/plain": [
       "[Text(0.5, 1.0, 'Percentage of missing values'), Text(0, 0.5, 'Variables')]"
      ]
     },
     "execution_count": 7,
     "metadata": {},
     "output_type": "execute_result"
    },
    {
     "data": {
      "image/png": "[encoded data removed]",
      "text/plain": [
       "<Figure size 600x300 with 1 Axes>"
      ]
     },
     "metadata": {},
     "output_type": "display_data"
    }
   ],
   "source": [
    "plt.figure(figsize=(6,3))\n",
    "sns.barplot(x=filtered.values, y=filtered.index).set(title='Percentage of missing values', ylabel='Variables')\n"
   ]
  },
  {
   "cell_type": "markdown",
   "id": "d89a0761",
   "metadata": {
    "papermill": {
     "duration": 0.009102,
     "end_time": "2024-01-25T22:27:52.474863",
     "exception": false,
     "start_time": "2024-01-25T22:27:52.465761",
     "status": "completed"
    },
    "tags": []
   },
   "source": [
    "#### Conclusions\n",
    "- anos_en_puesto, conciliacion -> delete variables\n",
    "- sexo,educacion,satisfaccion_trabajo,implicacion -> imputed after EDA"
   ]
  },
  {
   "cell_type": "markdown",
   "id": "7b3355fd",
   "metadata": {
    "papermill": {
     "duration": 0.008788,
     "end_time": "2024-01-25T22:27:52.492909",
     "exception": false,
     "start_time": "2024-01-25T22:27:52.484121",
     "status": "completed"
    },
    "tags": []
   },
   "source": [
    "### Elimination of variables with 30% or more missing data"
   ]
  },
  {
   "cell_type": "code",
   "execution_count": 8,
   "id": "a98f4a9d",
   "metadata": {
    "_kg_hide-output": true,
    "execution": {
     "iopub.execute_input": "2024-01-25T22:27:52.513079Z",
     "iopub.status.busy": "2024-01-25T22:27:52.512155Z",
     "iopub.status.idle": "2024-01-25T22:27:52.526986Z",
     "shell.execute_reply": "2024-01-25T22:27:52.525710Z"
    },
    "papermill": {
     "duration": 0.0269,
     "end_time": "2024-01-25T22:27:52.528853",
     "exception": false,
     "start_time": "2024-01-25T22:27:52.501953",
     "status": "completed"
    },
    "tags": []
   },
   "outputs": [
    {
     "name": "stdout",
     "output_type": "stream",
     "text": [
      "<class 'pandas.core.frame.DataFrame'>\n",
      "Index: 1470 entries, 1 to 2068\n",
      "Data columns (total 29 columns):\n",
      " #   Column                    Non-Null Count  Dtype  \n",
      "---  ------                    --------------  -----  \n",
      " 0   edad                      1470 non-null   int64  \n",
      " 1   abandono                  1470 non-null   object \n",
      " 2   viajes                    1470 non-null   object \n",
      " 3   departamento              1470 non-null   object \n",
      " 4   distancia_casa            1470 non-null   int64  \n",
      " 5   educacion                 1369 non-null   object \n",
      " 6   carrera                   1470 non-null   object \n",
      " 7   empleados                 1470 non-null   int64  \n",
      " 8   satisfaccion_entorno      1470 non-null   object \n",
      " 9   sexo                      1271 non-null   float64\n",
      " 10  implicacion               1452 non-null   object \n",
      " 11  nivel_laboral             1470 non-null   int64  \n",
      " 12  puesto                    1470 non-null   object \n",
      " 13  satisfaccion_trabajo      1394 non-null   object \n",
      " 14  estado_civil              1470 non-null   object \n",
      " 15  salario_mes               1470 non-null   int64  \n",
      " 16  num_empresas_anteriores   1470 non-null   int64  \n",
      " 17  mayor_edad                1470 non-null   object \n",
      " 18  horas_extra               1470 non-null   object \n",
      " 19  incremento_salario_porc   1470 non-null   int64  \n",
      " 20  evaluacion                1470 non-null   object \n",
      " 21  satisfaccion_companeros   1470 non-null   object \n",
      " 22  horas_quincena            1470 non-null   int64  \n",
      " 23  nivel_acciones            1470 non-null   int64  \n",
      " 24  anos_experiencia          1470 non-null   int64  \n",
      " 25  num_formaciones_ult_ano   1470 non-null   int64  \n",
      " 26  anos_compania             1470 non-null   int64  \n",
      " 27  anos_desde_ult_promocion  1470 non-null   int64  \n",
      " 28  anos_con_manager_actual   1470 non-null   int64  \n",
      "dtypes: float64(1), int64(14), object(14)\n",
      "memory usage: 344.5+ KB\n"
     ]
    }
   ],
   "source": [
    "df.drop(columns=['anos_en_puesto','conciliacion'], inplace=True)\n",
    "df.info()"
   ]
  },
  {
   "cell_type": "code",
   "execution_count": 9,
   "id": "ccf73cbb",
   "metadata": {
    "execution": {
     "iopub.execute_input": "2024-01-25T22:27:52.551093Z",
     "iopub.status.busy": "2024-01-25T22:27:52.550291Z",
     "iopub.status.idle": "2024-01-25T22:27:52.556850Z",
     "shell.execute_reply": "2024-01-25T22:27:52.555930Z"
    },
    "papermill": {
     "duration": 0.019675,
     "end_time": "2024-01-25T22:27:52.558786",
     "exception": false,
     "start_time": "2024-01-25T22:27:52.539111",
     "status": "completed"
    },
    "tags": []
   },
   "outputs": [
    {
     "data": {
      "text/plain": [
       "14"
      ]
     },
     "execution_count": 9,
     "metadata": {},
     "output_type": "execute_result"
    }
   ],
   "source": [
    "obj =df.select_dtypes('O')\n",
    "obj.shape[1]"
   ]
  },
  {
   "cell_type": "markdown",
   "id": "94343289",
   "metadata": {
    "papermill": {
     "duration": 0.010241,
     "end_time": "2024-01-25T22:27:52.579810",
     "exception": false,
     "start_time": "2024-01-25T22:27:52.569569",
     "status": "completed"
    },
    "tags": []
   },
   "source": [
    "## EDA - Categorical VariablesData"
   ]
  },
  {
   "cell_type": "code",
   "execution_count": 10,
   "id": "b25047bc",
   "metadata": {
    "execution": {
     "iopub.execute_input": "2024-01-25T22:27:52.601206Z",
     "iopub.status.busy": "2024-01-25T22:27:52.600115Z",
     "iopub.status.idle": "2024-01-25T22:27:52.606585Z",
     "shell.execute_reply": "2024-01-25T22:27:52.605894Z"
    },
    "papermill": {
     "duration": 0.01966,
     "end_time": "2024-01-25T22:27:52.608958",
     "exception": false,
     "start_time": "2024-01-25T22:27:52.589298",
     "status": "completed"
    },
    "tags": []
   },
   "outputs": [],
   "source": [
    "from math import ceil\n",
    "\n",
    "def eda_categorical_chart(cat):\n",
    "    n_rows_subplot = ceil(cat.shape[1]/2)\n",
    "    g,ax = plt.subplots(nrows=n_rows_subplot, ncols= 2, figsize= (16, n_rows_subplot*6))\n",
    "    ax = ax.flat\n",
    "    \n",
    "    for my_index, my_column in enumerate(cat):\n",
    "        cat[my_column].value_counts().plot.barh(ax=ax[my_index])\n",
    "        ax[my_index].set_title(my_column,fontsize=12,fontweight='bold')\n",
    "        ax[my_index].tick_params(labelsize=12)\n",
    "        "
   ]
  },
  {
   "cell_type": "code",
   "execution_count": 11,
   "id": "7251a954",
   "metadata": {
    "execution": {
     "iopub.execute_input": "2024-01-25T22:27:52.632996Z",
     "iopub.status.busy": "2024-01-25T22:27:52.631119Z",
     "iopub.status.idle": "2024-01-25T22:27:55.030044Z",
     "shell.execute_reply": "2024-01-25T22:27:55.029198Z"
    },
    "papermill": {
     "duration": 2.412416,
     "end_time": "2024-01-25T22:27:55.032188",
     "exception": false,
     "start_time": "2024-01-25T22:27:52.619772",
     "status": "completed"
    },
    "tags": []
   },
   "outputs": [
    {
     "data": {
      "image/png": "[encoded data removed]",
      "text/plain": [
       "<Figure size 1600x4200 with 14 Axes>"
      ]
     },
     "metadata": {},
     "output_type": "display_data"
    }
   ],
   "source": [
    "eda_categorical_chart(df.select_dtypes('O'))"
   ]
  },
  {
   "cell_type": "markdown",
   "id": "d6ac6df6",
   "metadata": {
    "papermill": {
     "duration": 0.011091,
     "end_time": "2024-01-25T22:27:55.113470",
     "exception": false,
     "start_time": "2024-01-25T22:27:55.102379",
     "status": "completed"
    },
    "tags": []
   },
   "source": [
    "### Conclutions\n",
    "* mayor_edad has a single value -> delete variable\n",
    "\n",
    "* pending inputations:\n",
    "    * educacion -> Universitaria \n",
    "    * satisfaccion_trabajo -> Alta\n",
    "    * implicacion -> Alta"
   ]
  },
  {
   "cell_type": "code",
   "execution_count": 12,
   "id": "eac63d52",
   "metadata": {
    "execution": {
     "iopub.execute_input": "2024-01-25T22:27:55.139343Z",
     "iopub.status.busy": "2024-01-25T22:27:55.137846Z",
     "iopub.status.idle": "2024-01-25T22:27:55.147727Z",
     "shell.execute_reply": "2024-01-25T22:27:55.146975Z"
    },
    "papermill": {
     "duration": 0.025669,
     "end_time": "2024-01-25T22:27:55.150327",
     "exception": false,
     "start_time": "2024-01-25T22:27:55.124658",
     "status": "completed"
    },
    "tags": []
   },
   "outputs": [],
   "source": [
    "df.drop(columns = 'mayor_edad', inplace=True)\n",
    "df['educacion'] = df['educacion'].fillna('Universitaria')\n",
    "df['satisfaccion_trabajo'] = df['satisfaccion_trabajo'].fillna('Alta')\n",
    "df['implicacion'] = df['implicacion'].fillna('Alta')"
   ]
  },
  {
   "cell_type": "markdown",
   "id": "d08382ff",
   "metadata": {
    "papermill": {
     "duration": 0.011879,
     "end_time": "2024-01-25T22:27:55.175021",
     "exception": false,
     "start_time": "2024-01-25T22:27:55.163142",
     "status": "completed"
    },
    "tags": []
   },
   "source": [
    "## EDA - Numerical Variables"
   ]
  },
  {
   "cell_type": "code",
   "execution_count": 13,
   "id": "175684fa",
   "metadata": {
    "execution": {
     "iopub.execute_input": "2024-01-25T22:27:55.201414Z",
     "iopub.status.busy": "2024-01-25T22:27:55.200981Z",
     "iopub.status.idle": "2024-01-25T22:27:55.246624Z",
     "shell.execute_reply": "2024-01-25T22:27:55.245564Z"
    },
    "papermill": {
     "duration": 0.062308,
     "end_time": "2024-01-25T22:27:55.248970",
     "exception": false,
     "start_time": "2024-01-25T22:27:55.186662",
     "status": "completed"
    },
    "tags": []
   },
   "outputs": [
    {
     "data": {
      "text/html": [
       "<div>\n",
       "<style scoped>\n",
       "    .dataframe tbody tr th:only-of-type {\n",
       "        vertical-align: middle;\n",
       "    }\n",
       "\n",
       "    .dataframe tbody tr th {\n",
       "        vertical-align: top;\n",
       "    }\n",
       "\n",
       "    .dataframe thead th {\n",
       "        text-align: right;\n",
       "    }\n",
       "</style>\n",
       "<table border=\"1\" class=\"dataframe\">\n",
       "  <thead>\n",
       "    <tr style=\"text-align: right;\">\n",
       "      <th></th>\n",
       "      <th>edad</th>\n",
       "      <th>distancia_casa</th>\n",
       "      <th>empleados</th>\n",
       "      <th>sexo</th>\n",
       "      <th>nivel_laboral</th>\n",
       "      <th>salario_mes</th>\n",
       "      <th>num_empresas_anteriores</th>\n",
       "      <th>incremento_salario_porc</th>\n",
       "      <th>horas_quincena</th>\n",
       "      <th>nivel_acciones</th>\n",
       "      <th>anos_experiencia</th>\n",
       "      <th>num_formaciones_ult_ano</th>\n",
       "      <th>anos_compania</th>\n",
       "      <th>anos_desde_ult_promocion</th>\n",
       "      <th>anos_con_manager_actual</th>\n",
       "    </tr>\n",
       "  </thead>\n",
       "  <tbody>\n",
       "    <tr>\n",
       "      <th>count</th>\n",
       "      <td>1470.000000</td>\n",
       "      <td>1470.000000</td>\n",
       "      <td>1470.0</td>\n",
       "      <td>1271.000000</td>\n",
       "      <td>1470.000000</td>\n",
       "      <td>1470.000000</td>\n",
       "      <td>1470.000000</td>\n",
       "      <td>1470.000000</td>\n",
       "      <td>1470.0</td>\n",
       "      <td>1470.000000</td>\n",
       "      <td>1470.000000</td>\n",
       "      <td>1470.000000</td>\n",
       "      <td>1470.000000</td>\n",
       "      <td>1470.000000</td>\n",
       "      <td>1470.000000</td>\n",
       "    </tr>\n",
       "    <tr>\n",
       "      <th>mean</th>\n",
       "      <td>36.923810</td>\n",
       "      <td>9.192517</td>\n",
       "      <td>1.0</td>\n",
       "      <td>2.727773</td>\n",
       "      <td>2.063946</td>\n",
       "      <td>6502.931293</td>\n",
       "      <td>2.693197</td>\n",
       "      <td>15.209524</td>\n",
       "      <td>80.0</td>\n",
       "      <td>0.793878</td>\n",
       "      <td>11.279592</td>\n",
       "      <td>2.799320</td>\n",
       "      <td>7.008163</td>\n",
       "      <td>2.187755</td>\n",
       "      <td>4.123129</td>\n",
       "    </tr>\n",
       "    <tr>\n",
       "      <th>std</th>\n",
       "      <td>9.135373</td>\n",
       "      <td>8.106864</td>\n",
       "      <td>0.0</td>\n",
       "      <td>0.720788</td>\n",
       "      <td>1.106940</td>\n",
       "      <td>4707.956783</td>\n",
       "      <td>2.498009</td>\n",
       "      <td>3.659938</td>\n",
       "      <td>0.0</td>\n",
       "      <td>0.852077</td>\n",
       "      <td>7.780782</td>\n",
       "      <td>1.289271</td>\n",
       "      <td>6.126525</td>\n",
       "      <td>3.222430</td>\n",
       "      <td>3.568136</td>\n",
       "    </tr>\n",
       "    <tr>\n",
       "      <th>min</th>\n",
       "      <td>18.000000</td>\n",
       "      <td>1.000000</td>\n",
       "      <td>1.0</td>\n",
       "      <td>1.000000</td>\n",
       "      <td>1.000000</td>\n",
       "      <td>1009.000000</td>\n",
       "      <td>0.000000</td>\n",
       "      <td>11.000000</td>\n",
       "      <td>80.0</td>\n",
       "      <td>0.000000</td>\n",
       "      <td>0.000000</td>\n",
       "      <td>0.000000</td>\n",
       "      <td>0.000000</td>\n",
       "      <td>0.000000</td>\n",
       "      <td>0.000000</td>\n",
       "    </tr>\n",
       "    <tr>\n",
       "      <th>25%</th>\n",
       "      <td>30.000000</td>\n",
       "      <td>2.000000</td>\n",
       "      <td>1.0</td>\n",
       "      <td>2.000000</td>\n",
       "      <td>1.000000</td>\n",
       "      <td>2911.000000</td>\n",
       "      <td>1.000000</td>\n",
       "      <td>12.000000</td>\n",
       "      <td>80.0</td>\n",
       "      <td>0.000000</td>\n",
       "      <td>6.000000</td>\n",
       "      <td>2.000000</td>\n",
       "      <td>3.000000</td>\n",
       "      <td>0.000000</td>\n",
       "      <td>2.000000</td>\n",
       "    </tr>\n",
       "    <tr>\n",
       "      <th>50%</th>\n",
       "      <td>36.000000</td>\n",
       "      <td>7.000000</td>\n",
       "      <td>1.0</td>\n",
       "      <td>3.000000</td>\n",
       "      <td>2.000000</td>\n",
       "      <td>4919.000000</td>\n",
       "      <td>2.000000</td>\n",
       "      <td>14.000000</td>\n",
       "      <td>80.0</td>\n",
       "      <td>1.000000</td>\n",
       "      <td>10.000000</td>\n",
       "      <td>3.000000</td>\n",
       "      <td>5.000000</td>\n",
       "      <td>1.000000</td>\n",
       "      <td>3.000000</td>\n",
       "    </tr>\n",
       "    <tr>\n",
       "      <th>75%</th>\n",
       "      <td>43.000000</td>\n",
       "      <td>14.000000</td>\n",
       "      <td>1.0</td>\n",
       "      <td>3.000000</td>\n",
       "      <td>3.000000</td>\n",
       "      <td>8379.000000</td>\n",
       "      <td>4.000000</td>\n",
       "      <td>18.000000</td>\n",
       "      <td>80.0</td>\n",
       "      <td>1.000000</td>\n",
       "      <td>15.000000</td>\n",
       "      <td>3.000000</td>\n",
       "      <td>9.000000</td>\n",
       "      <td>3.000000</td>\n",
       "      <td>7.000000</td>\n",
       "    </tr>\n",
       "    <tr>\n",
       "      <th>max</th>\n",
       "      <td>60.000000</td>\n",
       "      <td>29.000000</td>\n",
       "      <td>1.0</td>\n",
       "      <td>4.000000</td>\n",
       "      <td>5.000000</td>\n",
       "      <td>19999.000000</td>\n",
       "      <td>9.000000</td>\n",
       "      <td>25.000000</td>\n",
       "      <td>80.0</td>\n",
       "      <td>3.000000</td>\n",
       "      <td>40.000000</td>\n",
       "      <td>6.000000</td>\n",
       "      <td>40.000000</td>\n",
       "      <td>15.000000</td>\n",
       "      <td>17.000000</td>\n",
       "    </tr>\n",
       "  </tbody>\n",
       "</table>\n",
       "</div>"
      ],
      "text/plain": [
       "              edad  distancia_casa  empleados         sexo  nivel_laboral  \\\n",
       "count  1470.000000     1470.000000     1470.0  1271.000000    1470.000000   \n",
       "mean     36.923810        9.192517        1.0     2.727773       2.063946   \n",
       "std       9.135373        8.106864        0.0     0.720788       1.106940   \n",
       "min      18.000000        1.000000        1.0     1.000000       1.000000   \n",
       "25%      30.000000        2.000000        1.0     2.000000       1.000000   \n",
       "50%      36.000000        7.000000        1.0     3.000000       2.000000   \n",
       "75%      43.000000       14.000000        1.0     3.000000       3.000000   \n",
       "max      60.000000       29.000000        1.0     4.000000       5.000000   \n",
       "\n",
       "        salario_mes  num_empresas_anteriores  incremento_salario_porc  \\\n",
       "count   1470.000000              1470.000000              1470.000000   \n",
       "mean    6502.931293                 2.693197                15.209524   \n",
       "std     4707.956783                 2.498009                 3.659938   \n",
       "min     1009.000000                 0.000000                11.000000   \n",
       "25%     2911.000000                 1.000000                12.000000   \n",
       "50%     4919.000000                 2.000000                14.000000   \n",
       "75%     8379.000000                 4.000000                18.000000   \n",
       "max    19999.000000                 9.000000                25.000000   \n",
       "\n",
       "       horas_quincena  nivel_acciones  anos_experiencia  \\\n",
       "count          1470.0     1470.000000       1470.000000   \n",
       "mean             80.0        0.793878         11.279592   \n",
       "std               0.0        0.852077          7.780782   \n",
       "min              80.0        0.000000          0.000000   \n",
       "25%              80.0        0.000000          6.000000   \n",
       "50%              80.0        1.000000         10.000000   \n",
       "75%              80.0        1.000000         15.000000   \n",
       "max              80.0        3.000000         40.000000   \n",
       "\n",
       "       num_formaciones_ult_ano  anos_compania  anos_desde_ult_promocion  \\\n",
       "count              1470.000000    1470.000000               1470.000000   \n",
       "mean                  2.799320       7.008163                  2.187755   \n",
       "std                   1.289271       6.126525                  3.222430   \n",
       "min                   0.000000       0.000000                  0.000000   \n",
       "25%                   2.000000       3.000000                  0.000000   \n",
       "50%                   3.000000       5.000000                  1.000000   \n",
       "75%                   3.000000       9.000000                  3.000000   \n",
       "max                   6.000000      40.000000                 15.000000   \n",
       "\n",
       "       anos_con_manager_actual  \n",
       "count              1470.000000  \n",
       "mean                  4.123129  \n",
       "std                   3.568136  \n",
       "min                   0.000000  \n",
       "25%                   2.000000  \n",
       "50%                   3.000000  \n",
       "75%                   7.000000  \n",
       "max                  17.000000  "
      ]
     },
     "execution_count": 13,
     "metadata": {},
     "output_type": "execute_result"
    }
   ],
   "source": [
    "df.select_dtypes('number').describe()"
   ]
  },
  {
   "cell_type": "code",
   "execution_count": 14,
   "id": "ae83c6a7",
   "metadata": {
    "execution": {
     "iopub.execute_input": "2024-01-25T22:27:55.279492Z",
     "iopub.status.busy": "2024-01-25T22:27:55.279114Z",
     "iopub.status.idle": "2024-01-25T22:27:55.284842Z",
     "shell.execute_reply": "2024-01-25T22:27:55.283418Z"
    },
    "papermill": {
     "duration": 0.023683,
     "end_time": "2024-01-25T22:27:55.286978",
     "exception": false,
     "start_time": "2024-01-25T22:27:55.263295",
     "status": "completed"
    },
    "tags": []
   },
   "outputs": [],
   "source": [
    "def my_describe(num):\n",
    "    des = num.describe().T\n",
    "    des['median'] = num.median()\n",
    "    #sorting columns\n",
    "    des = des.iloc[:,[0,1,8,2,3,4,5,6,7]]\n",
    "    return(des)"
   ]
  },
  {
   "cell_type": "code",
   "execution_count": 15,
   "id": "17b3343c",
   "metadata": {
    "execution": {
     "iopub.execute_input": "2024-01-25T22:27:55.314224Z",
     "iopub.status.busy": "2024-01-25T22:27:55.313868Z",
     "iopub.status.idle": "2024-01-25T22:27:55.362196Z",
     "shell.execute_reply": "2024-01-25T22:27:55.361180Z"
    },
    "papermill": {
     "duration": 0.063898,
     "end_time": "2024-01-25T22:27:55.364278",
     "exception": false,
     "start_time": "2024-01-25T22:27:55.300380",
     "status": "completed"
    },
    "tags": []
   },
   "outputs": [
    {
     "data": {
      "text/html": [
       "<div>\n",
       "<style scoped>\n",
       "    .dataframe tbody tr th:only-of-type {\n",
       "        vertical-align: middle;\n",
       "    }\n",
       "\n",
       "    .dataframe tbody tr th {\n",
       "        vertical-align: top;\n",
       "    }\n",
       "\n",
       "    .dataframe thead th {\n",
       "        text-align: right;\n",
       "    }\n",
       "</style>\n",
       "<table border=\"1\" class=\"dataframe\">\n",
       "  <thead>\n",
       "    <tr style=\"text-align: right;\">\n",
       "      <th></th>\n",
       "      <th>count</th>\n",
       "      <th>mean</th>\n",
       "      <th>median</th>\n",
       "      <th>std</th>\n",
       "      <th>min</th>\n",
       "      <th>25%</th>\n",
       "      <th>50%</th>\n",
       "      <th>75%</th>\n",
       "      <th>max</th>\n",
       "    </tr>\n",
       "  </thead>\n",
       "  <tbody>\n",
       "    <tr>\n",
       "      <th>edad</th>\n",
       "      <td>1470.0</td>\n",
       "      <td>36.923810</td>\n",
       "      <td>36.0</td>\n",
       "      <td>9.135373</td>\n",
       "      <td>18.0</td>\n",
       "      <td>30.0</td>\n",
       "      <td>36.0</td>\n",
       "      <td>43.0</td>\n",
       "      <td>60.0</td>\n",
       "    </tr>\n",
       "    <tr>\n",
       "      <th>distancia_casa</th>\n",
       "      <td>1470.0</td>\n",
       "      <td>9.192517</td>\n",
       "      <td>7.0</td>\n",
       "      <td>8.106864</td>\n",
       "      <td>1.0</td>\n",
       "      <td>2.0</td>\n",
       "      <td>7.0</td>\n",
       "      <td>14.0</td>\n",
       "      <td>29.0</td>\n",
       "    </tr>\n",
       "    <tr>\n",
       "      <th>empleados</th>\n",
       "      <td>1470.0</td>\n",
       "      <td>1.000000</td>\n",
       "      <td>1.0</td>\n",
       "      <td>0.000000</td>\n",
       "      <td>1.0</td>\n",
       "      <td>1.0</td>\n",
       "      <td>1.0</td>\n",
       "      <td>1.0</td>\n",
       "      <td>1.0</td>\n",
       "    </tr>\n",
       "    <tr>\n",
       "      <th>sexo</th>\n",
       "      <td>1271.0</td>\n",
       "      <td>2.727773</td>\n",
       "      <td>3.0</td>\n",
       "      <td>0.720788</td>\n",
       "      <td>1.0</td>\n",
       "      <td>2.0</td>\n",
       "      <td>3.0</td>\n",
       "      <td>3.0</td>\n",
       "      <td>4.0</td>\n",
       "    </tr>\n",
       "    <tr>\n",
       "      <th>nivel_laboral</th>\n",
       "      <td>1470.0</td>\n",
       "      <td>2.063946</td>\n",
       "      <td>2.0</td>\n",
       "      <td>1.106940</td>\n",
       "      <td>1.0</td>\n",
       "      <td>1.0</td>\n",
       "      <td>2.0</td>\n",
       "      <td>3.0</td>\n",
       "      <td>5.0</td>\n",
       "    </tr>\n",
       "    <tr>\n",
       "      <th>salario_mes</th>\n",
       "      <td>1470.0</td>\n",
       "      <td>6502.931293</td>\n",
       "      <td>4919.0</td>\n",
       "      <td>4707.956783</td>\n",
       "      <td>1009.0</td>\n",
       "      <td>2911.0</td>\n",
       "      <td>4919.0</td>\n",
       "      <td>8379.0</td>\n",
       "      <td>19999.0</td>\n",
       "    </tr>\n",
       "    <tr>\n",
       "      <th>num_empresas_anteriores</th>\n",
       "      <td>1470.0</td>\n",
       "      <td>2.693197</td>\n",
       "      <td>2.0</td>\n",
       "      <td>2.498009</td>\n",
       "      <td>0.0</td>\n",
       "      <td>1.0</td>\n",
       "      <td>2.0</td>\n",
       "      <td>4.0</td>\n",
       "      <td>9.0</td>\n",
       "    </tr>\n",
       "    <tr>\n",
       "      <th>incremento_salario_porc</th>\n",
       "      <td>1470.0</td>\n",
       "      <td>15.209524</td>\n",
       "      <td>14.0</td>\n",
       "      <td>3.659938</td>\n",
       "      <td>11.0</td>\n",
       "      <td>12.0</td>\n",
       "      <td>14.0</td>\n",
       "      <td>18.0</td>\n",
       "      <td>25.0</td>\n",
       "    </tr>\n",
       "    <tr>\n",
       "      <th>horas_quincena</th>\n",
       "      <td>1470.0</td>\n",
       "      <td>80.000000</td>\n",
       "      <td>80.0</td>\n",
       "      <td>0.000000</td>\n",
       "      <td>80.0</td>\n",
       "      <td>80.0</td>\n",
       "      <td>80.0</td>\n",
       "      <td>80.0</td>\n",
       "      <td>80.0</td>\n",
       "    </tr>\n",
       "    <tr>\n",
       "      <th>nivel_acciones</th>\n",
       "      <td>1470.0</td>\n",
       "      <td>0.793878</td>\n",
       "      <td>1.0</td>\n",
       "      <td>0.852077</td>\n",
       "      <td>0.0</td>\n",
       "      <td>0.0</td>\n",
       "      <td>1.0</td>\n",
       "      <td>1.0</td>\n",
       "      <td>3.0</td>\n",
       "    </tr>\n",
       "    <tr>\n",
       "      <th>anos_experiencia</th>\n",
       "      <td>1470.0</td>\n",
       "      <td>11.279592</td>\n",
       "      <td>10.0</td>\n",
       "      <td>7.780782</td>\n",
       "      <td>0.0</td>\n",
       "      <td>6.0</td>\n",
       "      <td>10.0</td>\n",
       "      <td>15.0</td>\n",
       "      <td>40.0</td>\n",
       "    </tr>\n",
       "    <tr>\n",
       "      <th>num_formaciones_ult_ano</th>\n",
       "      <td>1470.0</td>\n",
       "      <td>2.799320</td>\n",
       "      <td>3.0</td>\n",
       "      <td>1.289271</td>\n",
       "      <td>0.0</td>\n",
       "      <td>2.0</td>\n",
       "      <td>3.0</td>\n",
       "      <td>3.0</td>\n",
       "      <td>6.0</td>\n",
       "    </tr>\n",
       "    <tr>\n",
       "      <th>anos_compania</th>\n",
       "      <td>1470.0</td>\n",
       "      <td>7.008163</td>\n",
       "      <td>5.0</td>\n",
       "      <td>6.126525</td>\n",
       "      <td>0.0</td>\n",
       "      <td>3.0</td>\n",
       "      <td>5.0</td>\n",
       "      <td>9.0</td>\n",
       "      <td>40.0</td>\n",
       "    </tr>\n",
       "    <tr>\n",
       "      <th>anos_desde_ult_promocion</th>\n",
       "      <td>1470.0</td>\n",
       "      <td>2.187755</td>\n",
       "      <td>1.0</td>\n",
       "      <td>3.222430</td>\n",
       "      <td>0.0</td>\n",
       "      <td>0.0</td>\n",
       "      <td>1.0</td>\n",
       "      <td>3.0</td>\n",
       "      <td>15.0</td>\n",
       "    </tr>\n",
       "    <tr>\n",
       "      <th>anos_con_manager_actual</th>\n",
       "      <td>1470.0</td>\n",
       "      <td>4.123129</td>\n",
       "      <td>3.0</td>\n",
       "      <td>3.568136</td>\n",
       "      <td>0.0</td>\n",
       "      <td>2.0</td>\n",
       "      <td>3.0</td>\n",
       "      <td>7.0</td>\n",
       "      <td>17.0</td>\n",
       "    </tr>\n",
       "  </tbody>\n",
       "</table>\n",
       "</div>"
      ],
      "text/plain": [
       "                           count         mean  median          std     min  \\\n",
       "edad                      1470.0    36.923810    36.0     9.135373    18.0   \n",
       "distancia_casa            1470.0     9.192517     7.0     8.106864     1.0   \n",
       "empleados                 1470.0     1.000000     1.0     0.000000     1.0   \n",
       "sexo                      1271.0     2.727773     3.0     0.720788     1.0   \n",
       "nivel_laboral             1470.0     2.063946     2.0     1.106940     1.0   \n",
       "salario_mes               1470.0  6502.931293  4919.0  4707.956783  1009.0   \n",
       "num_empresas_anteriores   1470.0     2.693197     2.0     2.498009     0.0   \n",
       "incremento_salario_porc   1470.0    15.209524    14.0     3.659938    11.0   \n",
       "horas_quincena            1470.0    80.000000    80.0     0.000000    80.0   \n",
       "nivel_acciones            1470.0     0.793878     1.0     0.852077     0.0   \n",
       "anos_experiencia          1470.0    11.279592    10.0     7.780782     0.0   \n",
       "num_formaciones_ult_ano   1470.0     2.799320     3.0     1.289271     0.0   \n",
       "anos_compania             1470.0     7.008163     5.0     6.126525     0.0   \n",
       "anos_desde_ult_promocion  1470.0     2.187755     1.0     3.222430     0.0   \n",
       "anos_con_manager_actual   1470.0     4.123129     3.0     3.568136     0.0   \n",
       "\n",
       "                             25%     50%     75%      max  \n",
       "edad                        30.0    36.0    43.0     60.0  \n",
       "distancia_casa               2.0     7.0    14.0     29.0  \n",
       "empleados                    1.0     1.0     1.0      1.0  \n",
       "sexo                         2.0     3.0     3.0      4.0  \n",
       "nivel_laboral                1.0     2.0     3.0      5.0  \n",
       "salario_mes               2911.0  4919.0  8379.0  19999.0  \n",
       "num_empresas_anteriores      1.0     2.0     4.0      9.0  \n",
       "incremento_salario_porc     12.0    14.0    18.0     25.0  \n",
       "horas_quincena              80.0    80.0    80.0     80.0  \n",
       "nivel_acciones               0.0     1.0     1.0      3.0  \n",
       "anos_experiencia             6.0    10.0    15.0     40.0  \n",
       "num_formaciones_ult_ano      2.0     3.0     3.0      6.0  \n",
       "anos_compania                3.0     5.0     9.0     40.0  \n",
       "anos_desde_ult_promocion     0.0     1.0     3.0     15.0  \n",
       "anos_con_manager_actual      2.0     3.0     7.0     17.0  "
      ]
     },
     "execution_count": 15,
     "metadata": {},
     "output_type": "execute_result"
    }
   ],
   "source": [
    "my_describe(df.select_dtypes('number'))"
   ]
  },
  {
   "cell_type": "markdown",
   "id": "b87057e3",
   "metadata": {
    "papermill": {
     "duration": 0.011906,
     "end_time": "2024-01-25T22:27:55.389327",
     "exception": false,
     "start_time": "2024-01-25T22:27:55.377421",
     "status": "completed"
    },
    "tags": []
   },
   "source": [
    "### Conclutions\n",
    "* empleados has a single value -> delete\n",
    "* sexo has 4 values -> delete/ we don't know why it has 4 values.\n",
    "* horas_quincena has a single value -> delete."
   ]
  },
  {
   "cell_type": "code",
   "execution_count": 16,
   "id": "3788c505",
   "metadata": {
    "execution": {
     "iopub.execute_input": "2024-01-25T22:27:55.419368Z",
     "iopub.status.busy": "2024-01-25T22:27:55.418964Z",
     "iopub.status.idle": "2024-01-25T22:27:55.425124Z",
     "shell.execute_reply": "2024-01-25T22:27:55.424171Z"
    },
    "papermill": {
     "duration": 0.025394,
     "end_time": "2024-01-25T22:27:55.427744",
     "exception": false,
     "start_time": "2024-01-25T22:27:55.402350",
     "status": "completed"
    },
    "tags": []
   },
   "outputs": [],
   "source": [
    "df.drop(columns=['empleados', 'sexo', 'horas_quincena'], inplace=True)\n"
   ]
  },
  {
   "cell_type": "markdown",
   "id": "00d8a3f9",
   "metadata": {
    "papermill": {
     "duration": 0.013017,
     "end_time": "2024-01-25T22:27:55.454319",
     "exception": false,
     "start_time": "2024-01-25T22:27:55.441302",
     "status": "completed"
    },
    "tags": []
   },
   "source": [
    "## INSIGHTS"
   ]
  },
  {
   "cell_type": "markdown",
   "id": "0cdf4e87",
   "metadata": {
    "papermill": {
     "duration": 0.011816,
     "end_time": "2024-01-25T22:27:55.478660",
     "exception": false,
     "start_time": "2024-01-25T22:27:55.466844",
     "status": "completed"
    },
    "tags": []
   },
   "source": [
    "### What is the abandonment rate?"
   ]
  },
  {
   "cell_type": "code",
   "execution_count": 17,
   "id": "6ed8a1e2",
   "metadata": {
    "execution": {
     "iopub.execute_input": "2024-01-25T22:27:55.504463Z",
     "iopub.status.busy": "2024-01-25T22:27:55.503852Z",
     "iopub.status.idle": "2024-01-25T22:27:55.513574Z",
     "shell.execute_reply": "2024-01-25T22:27:55.512334Z"
    },
    "papermill": {
     "duration": 0.026256,
     "end_time": "2024-01-25T22:27:55.516840",
     "exception": false,
     "start_time": "2024-01-25T22:27:55.490584",
     "status": "completed"
    },
    "tags": []
   },
   "outputs": [
    {
     "data": {
      "text/plain": [
       "abandono\n",
       "No     83.877551\n",
       "Yes    16.122449\n",
       "Name: proportion, dtype: float64"
      ]
     },
     "execution_count": 17,
     "metadata": {},
     "output_type": "execute_result"
    }
   ],
   "source": [
    "abandonment_rate = df.abandono.value_counts(normalize=True)*100\n",
    "abandonment_rate"
   ]
  },
  {
   "cell_type": "code",
   "execution_count": 18,
   "id": "b05d4dfc",
   "metadata": {
    "execution": {
     "iopub.execute_input": "2024-01-25T22:27:55.548099Z",
     "iopub.status.busy": "2024-01-25T22:27:55.547721Z",
     "iopub.status.idle": "2024-01-25T22:27:55.669807Z",
     "shell.execute_reply": "2024-01-25T22:27:55.669093Z"
    },
    "papermill": {
     "duration": 0.140579,
     "end_time": "2024-01-25T22:27:55.672501",
     "exception": false,
     "start_time": "2024-01-25T22:27:55.531922",
     "status": "completed"
    },
    "tags": []
   },
   "outputs": [
    {
     "data": {
      "text/plain": [
       "<Axes: xlabel='abandono'>"
      ]
     },
     "execution_count": 18,
     "metadata": {},
     "output_type": "execute_result"
    },
    {
     "data": {
      "image/png": "[encoded data removed]",
      "text/plain": [
       "<Figure size 300x200 with 1 Axes>"
      ]
     },
     "metadata": {},
     "output_type": "display_data"
    }
   ],
   "source": [
    "plt.figure(figsize=(3,2))\n",
    "sns.barplot(x=abandonment_rate.index, y=abandonment_rate.values)"
   ]
  },
  {
   "cell_type": "markdown",
   "id": "9725a8e7",
   "metadata": {
    "papermill": {
     "duration": 0.017249,
     "end_time": "2024-01-25T22:27:55.708696",
     "exception": false,
     "start_time": "2024-01-25T22:27:55.691447",
     "status": "completed"
    },
    "tags": []
   },
   "source": [
    "### Is there a employee profile that leaves the company?"
   ]
  },
  {
   "cell_type": "code",
   "execution_count": 19,
   "id": "25e2159e",
   "metadata": {
    "execution": {
     "iopub.execute_input": "2024-01-25T22:27:55.739088Z",
     "iopub.status.busy": "2024-01-25T22:27:55.738576Z",
     "iopub.status.idle": "2024-01-25T22:27:55.743326Z",
     "shell.execute_reply": "2024-01-25T22:27:55.742723Z"
    },
    "papermill": {
     "duration": 0.022738,
     "end_time": "2024-01-25T22:27:55.745802",
     "exception": false,
     "start_time": "2024-01-25T22:27:55.723064",
     "status": "completed"
    },
    "tags": []
   },
   "outputs": [],
   "source": [
    "# Transforming abandono values to numerical\n",
    "df['abandono'] = df.abandono.map({'No':0, 'Yes':1})"
   ]
  },
  {
   "cell_type": "code",
   "execution_count": 20,
   "id": "5ee671c3",
   "metadata": {
    "execution": {
     "iopub.execute_input": "2024-01-25T22:27:55.773412Z",
     "iopub.status.busy": "2024-01-25T22:27:55.772909Z",
     "iopub.status.idle": "2024-01-25T22:27:55.908014Z",
     "shell.execute_reply": "2024-01-25T22:27:55.906735Z"
    },
    "papermill": {
     "duration": 0.15224,
     "end_time": "2024-01-25T22:27:55.911131",
     "exception": false,
     "start_time": "2024-01-25T22:27:55.758891",
     "status": "completed"
    },
    "tags": []
   },
   "outputs": [
    {
     "data": {
      "image/png": "[encoded data removed]",
      "text/plain": [
       "<Figure size 500x200 with 1 Axes>"
      ]
     },
     "metadata": {},
     "output_type": "display_data"
    }
   ],
   "source": [
    "temp = df.groupby('educacion').abandono.mean().sort_values(ascending=False)*100\n",
    "plt.figure(figsize=(5, 2))\n",
    "ax = temp.plot.bar()\n",
    "ax.set_xticklabels(temp.index, rotation = 0)\n",
    "plt.show()"
   ]
  },
  {
   "cell_type": "code",
   "execution_count": 21,
   "id": "340eab8a",
   "metadata": {
    "execution": {
     "iopub.execute_input": "2024-01-25T22:27:55.942003Z",
     "iopub.status.busy": "2024-01-25T22:27:55.941633Z",
     "iopub.status.idle": "2024-01-25T22:27:56.079369Z",
     "shell.execute_reply": "2024-01-25T22:27:56.077828Z"
    },
    "papermill": {
     "duration": 0.154823,
     "end_time": "2024-01-25T22:27:56.082204",
     "exception": false,
     "start_time": "2024-01-25T22:27:55.927381",
     "status": "completed"
    },
    "tags": []
   },
   "outputs": [
    {
     "data": {
      "image/png": "[encoded data removed]",
      "text/plain": [
       "<Figure size 500x200 with 1 Axes>"
      ]
     },
     "metadata": {},
     "output_type": "display_data"
    }
   ],
   "source": [
    "temp = df.groupby('estado_civil').abandono.mean().sort_values(ascending=False)*100\n",
    "plt.figure(figsize=(5, 2))\n",
    "ax = temp.plot.bar()\n",
    "ax.set_xticklabels(temp.index, rotation = 0)\n",
    "plt.show()"
   ]
  },
  {
   "cell_type": "code",
   "execution_count": 22,
   "id": "a1c30ee4",
   "metadata": {
    "execution": {
     "iopub.execute_input": "2024-01-25T22:27:56.115143Z",
     "iopub.status.busy": "2024-01-25T22:27:56.114787Z",
     "iopub.status.idle": "2024-01-25T22:27:56.272291Z",
     "shell.execute_reply": "2024-01-25T22:27:56.271299Z"
    },
    "papermill": {
     "duration": 0.174573,
     "end_time": "2024-01-25T22:27:56.274780",
     "exception": false,
     "start_time": "2024-01-25T22:27:56.100207",
     "status": "completed"
    },
    "tags": []
   },
   "outputs": [
    {
     "data": {
      "image/png": "[encoded data removed]",
      "text/plain": [
       "<Figure size 500x300 with 1 Axes>"
      ]
     },
     "metadata": {},
     "output_type": "display_data"
    }
   ],
   "source": [
    "temp = df.groupby('horas_extra').abandono.mean().sort_values(ascending=False)*100\n",
    "plt.figure(figsize=(5, 3))\n",
    "ax = temp.plot.bar()\n",
    "ax.set_xticklabels(temp.index, rotation = 0)\n",
    "plt.show()"
   ]
  },
  {
   "cell_type": "code",
   "execution_count": 23,
   "id": "b9b0f7c9",
   "metadata": {
    "execution": {
     "iopub.execute_input": "2024-01-25T22:27:56.318103Z",
     "iopub.status.busy": "2024-01-25T22:27:56.317626Z",
     "iopub.status.idle": "2024-01-25T22:27:56.686754Z",
     "shell.execute_reply": "2024-01-25T22:27:56.685441Z"
    },
    "papermill": {
     "duration": 0.393259,
     "end_time": "2024-01-25T22:27:56.690031",
     "exception": false,
     "start_time": "2024-01-25T22:27:56.296772",
     "status": "completed"
    },
    "tags": []
   },
   "outputs": [
    {
     "data": {
      "image/png": "[encoded data removed]",
      "text/plain": [
       "<Figure size 1500x600 with 1 Axes>"
      ]
     },
     "metadata": {},
     "output_type": "display_data"
    }
   ],
   "source": [
    "temp = df.groupby('puesto').abandono.mean().sort_values(ascending=False)*100\n",
    "plt.figure(figsize=(15, 6))\n",
    "ax = temp.plot.bar()\n",
    "ax.set_xticklabels(temp.index, rotation = 15)\n",
    "plt.show()"
   ]
  },
  {
   "cell_type": "code",
   "execution_count": 24,
   "id": "117e640e",
   "metadata": {
    "execution": {
     "iopub.execute_input": "2024-01-25T22:27:56.721206Z",
     "iopub.status.busy": "2024-01-25T22:27:56.720056Z",
     "iopub.status.idle": "2024-01-25T22:27:56.866383Z",
     "shell.execute_reply": "2024-01-25T22:27:56.865384Z"
    },
    "papermill": {
     "duration": 0.163408,
     "end_time": "2024-01-25T22:27:56.868468",
     "exception": false,
     "start_time": "2024-01-25T22:27:56.705060",
     "status": "completed"
    },
    "tags": []
   },
   "outputs": [
    {
     "data": {
      "image/png": "[encoded data removed]",
      "text/plain": [
       "<Figure size 500x300 with 1 Axes>"
      ]
     },
     "metadata": {},
     "output_type": "display_data"
    }
   ],
   "source": [
    "temp = df.groupby('abandono').salario_mes.mean().sort_values(ascending=False)\n",
    "plt.figure(figsize=(5, 3))\n",
    "ax = temp.plot.bar()\n",
    "ax.set_xticklabels(temp.index, rotation = 0)\n",
    "plt.show()"
   ]
  },
  {
   "cell_type": "markdown",
   "id": "3d036699",
   "metadata": {
    "papermill": {
     "duration": 0.013768,
     "end_time": "2024-01-25T22:27:56.897143",
     "exception": false,
     "start_time": "2024-01-25T22:27:56.883375",
     "status": "completed"
    },
    "tags": []
   },
   "source": [
    "### Profile\n",
    "* low educational level - Primaria\n",
    "* Single\n",
    "* Works in sales\n",
    "* Works overtime"
   ]
  },
  {
   "cell_type": "markdown",
   "id": "491a4e3e",
   "metadata": {
    "papermill": {
     "duration": 0.013592,
     "end_time": "2024-01-25T22:27:56.924755",
     "exception": false,
     "start_time": "2024-01-25T22:27:56.911163",
     "status": "completed"
    },
    "tags": []
   },
   "source": [
    "### Wich is the economic impact of this problem?"
   ]
  },
  {
   "cell_type": "code",
   "execution_count": 25,
   "id": "5e66c9e6",
   "metadata": {
    "execution": {
     "iopub.execute_input": "2024-01-25T22:27:56.954939Z",
     "iopub.status.busy": "2024-01-25T22:27:56.954517Z",
     "iopub.status.idle": "2024-01-25T22:27:56.968509Z",
     "shell.execute_reply": "2024-01-25T22:27:56.967617Z"
    },
    "papermill": {
     "duration": 0.0316,
     "end_time": "2024-01-25T22:27:56.970416",
     "exception": false,
     "start_time": "2024-01-25T22:27:56.938816",
     "status": "completed"
    },
    "tags": []
   },
   "outputs": [
    {
     "data": {
      "text/html": [
       "<div>\n",
       "<style scoped>\n",
       "    .dataframe tbody tr th:only-of-type {\n",
       "        vertical-align: middle;\n",
       "    }\n",
       "\n",
       "    .dataframe tbody tr th {\n",
       "        vertical-align: top;\n",
       "    }\n",
       "\n",
       "    .dataframe thead th {\n",
       "        text-align: right;\n",
       "    }\n",
       "</style>\n",
       "<table border=\"1\" class=\"dataframe\">\n",
       "  <thead>\n",
       "    <tr style=\"text-align: right;\">\n",
       "      <th></th>\n",
       "      <th>salario_mes</th>\n",
       "      <th>salario_anual</th>\n",
       "    </tr>\n",
       "    <tr>\n",
       "      <th>id</th>\n",
       "      <th></th>\n",
       "      <th></th>\n",
       "    </tr>\n",
       "  </thead>\n",
       "  <tbody>\n",
       "    <tr>\n",
       "      <th>1</th>\n",
       "      <td>5993</td>\n",
       "      <td>71916</td>\n",
       "    </tr>\n",
       "    <tr>\n",
       "      <th>2</th>\n",
       "      <td>5130</td>\n",
       "      <td>61560</td>\n",
       "    </tr>\n",
       "    <tr>\n",
       "      <th>4</th>\n",
       "      <td>2090</td>\n",
       "      <td>25080</td>\n",
       "    </tr>\n",
       "    <tr>\n",
       "      <th>5</th>\n",
       "      <td>2909</td>\n",
       "      <td>34908</td>\n",
       "    </tr>\n",
       "    <tr>\n",
       "      <th>7</th>\n",
       "      <td>3468</td>\n",
       "      <td>41616</td>\n",
       "    </tr>\n",
       "    <tr>\n",
       "      <th>...</th>\n",
       "      <td>...</td>\n",
       "      <td>...</td>\n",
       "    </tr>\n",
       "    <tr>\n",
       "      <th>2061</th>\n",
       "      <td>2571</td>\n",
       "      <td>30852</td>\n",
       "    </tr>\n",
       "    <tr>\n",
       "      <th>2062</th>\n",
       "      <td>9991</td>\n",
       "      <td>119892</td>\n",
       "    </tr>\n",
       "    <tr>\n",
       "      <th>2064</th>\n",
       "      <td>6142</td>\n",
       "      <td>73704</td>\n",
       "    </tr>\n",
       "    <tr>\n",
       "      <th>2065</th>\n",
       "      <td>5390</td>\n",
       "      <td>64680</td>\n",
       "    </tr>\n",
       "    <tr>\n",
       "      <th>2068</th>\n",
       "      <td>4404</td>\n",
       "      <td>52848</td>\n",
       "    </tr>\n",
       "  </tbody>\n",
       "</table>\n",
       "<p>1470 rows × 2 columns</p>\n",
       "</div>"
      ],
      "text/plain": [
       "      salario_mes  salario_anual\n",
       "id                              \n",
       "1            5993          71916\n",
       "2            5130          61560\n",
       "4            2090          25080\n",
       "5            2909          34908\n",
       "7            3468          41616\n",
       "...           ...            ...\n",
       "2061         2571          30852\n",
       "2062         9991         119892\n",
       "2064         6142          73704\n",
       "2065         5390          64680\n",
       "2068         4404          52848\n",
       "\n",
       "[1470 rows x 2 columns]"
      ]
     },
     "execution_count": 25,
     "metadata": {},
     "output_type": "execute_result"
    }
   ],
   "source": [
    "# Creating a new variable anual_salary\n",
    "df['salario_anual'] = df.salario_mes.transform(lambda x: x*12)\n",
    "df[['salario_mes', 'salario_anual']]"
   ]
  },
  {
   "cell_type": "code",
   "execution_count": 26,
   "id": "bfedb86e",
   "metadata": {
    "execution": {
     "iopub.execute_input": "2024-01-25T22:27:57.005047Z",
     "iopub.status.busy": "2024-01-25T22:27:57.004350Z",
     "iopub.status.idle": "2024-01-25T22:27:57.032513Z",
     "shell.execute_reply": "2024-01-25T22:27:57.030869Z"
    },
    "papermill": {
     "duration": 0.048877,
     "end_time": "2024-01-25T22:27:57.034850",
     "exception": false,
     "start_time": "2024-01-25T22:27:56.985973",
     "status": "completed"
    },
    "tags": []
   },
   "outputs": [
    {
     "data": {
      "text/html": [
       "<div>\n",
       "<style scoped>\n",
       "    .dataframe tbody tr th:only-of-type {\n",
       "        vertical-align: middle;\n",
       "    }\n",
       "\n",
       "    .dataframe tbody tr th {\n",
       "        vertical-align: top;\n",
       "    }\n",
       "\n",
       "    .dataframe thead th {\n",
       "        text-align: right;\n",
       "    }\n",
       "</style>\n",
       "<table border=\"1\" class=\"dataframe\">\n",
       "  <thead>\n",
       "    <tr style=\"text-align: right;\">\n",
       "      <th></th>\n",
       "      <th>edad</th>\n",
       "      <th>abandono</th>\n",
       "      <th>viajes</th>\n",
       "      <th>departamento</th>\n",
       "      <th>distancia_casa</th>\n",
       "      <th>educacion</th>\n",
       "      <th>carrera</th>\n",
       "      <th>satisfaccion_entorno</th>\n",
       "      <th>implicacion</th>\n",
       "      <th>nivel_laboral</th>\n",
       "      <th>...</th>\n",
       "      <th>evaluacion</th>\n",
       "      <th>satisfaccion_companeros</th>\n",
       "      <th>nivel_acciones</th>\n",
       "      <th>anos_experiencia</th>\n",
       "      <th>num_formaciones_ult_ano</th>\n",
       "      <th>anos_compania</th>\n",
       "      <th>anos_desde_ult_promocion</th>\n",
       "      <th>anos_con_manager_actual</th>\n",
       "      <th>salario_anual</th>\n",
       "      <th>impacto_abandono</th>\n",
       "    </tr>\n",
       "    <tr>\n",
       "      <th>id</th>\n",
       "      <th></th>\n",
       "      <th></th>\n",
       "      <th></th>\n",
       "      <th></th>\n",
       "      <th></th>\n",
       "      <th></th>\n",
       "      <th></th>\n",
       "      <th></th>\n",
       "      <th></th>\n",
       "      <th></th>\n",
       "      <th></th>\n",
       "      <th></th>\n",
       "      <th></th>\n",
       "      <th></th>\n",
       "      <th></th>\n",
       "      <th></th>\n",
       "      <th></th>\n",
       "      <th></th>\n",
       "      <th></th>\n",
       "      <th></th>\n",
       "      <th></th>\n",
       "    </tr>\n",
       "  </thead>\n",
       "  <tbody>\n",
       "    <tr>\n",
       "      <th>1</th>\n",
       "      <td>41</td>\n",
       "      <td>1</td>\n",
       "      <td>Travel_Rarely</td>\n",
       "      <td>Sales</td>\n",
       "      <td>1</td>\n",
       "      <td>Universitaria</td>\n",
       "      <td>Life Sciences</td>\n",
       "      <td>Media</td>\n",
       "      <td>Alta</td>\n",
       "      <td>2</td>\n",
       "      <td>...</td>\n",
       "      <td>Alta</td>\n",
       "      <td>Baja</td>\n",
       "      <td>0</td>\n",
       "      <td>8</td>\n",
       "      <td>0</td>\n",
       "      <td>6</td>\n",
       "      <td>0</td>\n",
       "      <td>5</td>\n",
       "      <td>71916</td>\n",
       "      <td>14670.864</td>\n",
       "    </tr>\n",
       "    <tr>\n",
       "      <th>2</th>\n",
       "      <td>49</td>\n",
       "      <td>0</td>\n",
       "      <td>Travel_Frequently</td>\n",
       "      <td>Research &amp; Development</td>\n",
       "      <td>8</td>\n",
       "      <td>Secundaria</td>\n",
       "      <td>Life Sciences</td>\n",
       "      <td>Alta</td>\n",
       "      <td>Media</td>\n",
       "      <td>2</td>\n",
       "      <td>...</td>\n",
       "      <td>Muy_Alta</td>\n",
       "      <td>Muy_Alta</td>\n",
       "      <td>1</td>\n",
       "      <td>10</td>\n",
       "      <td>3</td>\n",
       "      <td>10</td>\n",
       "      <td>1</td>\n",
       "      <td>7</td>\n",
       "      <td>61560</td>\n",
       "      <td>12558.240</td>\n",
       "    </tr>\n",
       "    <tr>\n",
       "      <th>4</th>\n",
       "      <td>37</td>\n",
       "      <td>1</td>\n",
       "      <td>Travel_Rarely</td>\n",
       "      <td>Research &amp; Development</td>\n",
       "      <td>2</td>\n",
       "      <td>Secundaria</td>\n",
       "      <td>Other</td>\n",
       "      <td>Muy_Alta</td>\n",
       "      <td>Media</td>\n",
       "      <td>1</td>\n",
       "      <td>...</td>\n",
       "      <td>Alta</td>\n",
       "      <td>Media</td>\n",
       "      <td>0</td>\n",
       "      <td>7</td>\n",
       "      <td>3</td>\n",
       "      <td>0</td>\n",
       "      <td>0</td>\n",
       "      <td>0</td>\n",
       "      <td>25080</td>\n",
       "      <td>4037.880</td>\n",
       "    </tr>\n",
       "    <tr>\n",
       "      <th>5</th>\n",
       "      <td>33</td>\n",
       "      <td>0</td>\n",
       "      <td>Travel_Frequently</td>\n",
       "      <td>Research &amp; Development</td>\n",
       "      <td>3</td>\n",
       "      <td>Universitaria</td>\n",
       "      <td>Life Sciences</td>\n",
       "      <td>Muy_Alta</td>\n",
       "      <td>Alta</td>\n",
       "      <td>1</td>\n",
       "      <td>...</td>\n",
       "      <td>Alta</td>\n",
       "      <td>Alta</td>\n",
       "      <td>0</td>\n",
       "      <td>8</td>\n",
       "      <td>3</td>\n",
       "      <td>8</td>\n",
       "      <td>3</td>\n",
       "      <td>0</td>\n",
       "      <td>34908</td>\n",
       "      <td>6876.876</td>\n",
       "    </tr>\n",
       "    <tr>\n",
       "      <th>7</th>\n",
       "      <td>27</td>\n",
       "      <td>0</td>\n",
       "      <td>Travel_Rarely</td>\n",
       "      <td>Research &amp; Development</td>\n",
       "      <td>2</td>\n",
       "      <td>Universitaria</td>\n",
       "      <td>Medical</td>\n",
       "      <td>Baja</td>\n",
       "      <td>Alta</td>\n",
       "      <td>1</td>\n",
       "      <td>...</td>\n",
       "      <td>Alta</td>\n",
       "      <td>Muy_Alta</td>\n",
       "      <td>1</td>\n",
       "      <td>6</td>\n",
       "      <td>3</td>\n",
       "      <td>2</td>\n",
       "      <td>2</td>\n",
       "      <td>2</td>\n",
       "      <td>41616</td>\n",
       "      <td>8198.352</td>\n",
       "    </tr>\n",
       "  </tbody>\n",
       "</table>\n",
       "<p>5 rows × 27 columns</p>\n",
       "</div>"
      ],
      "text/plain": [
       "    edad  abandono             viajes            departamento  distancia_casa  \\\n",
       "id                                                                              \n",
       "1     41         1      Travel_Rarely                   Sales               1   \n",
       "2     49         0  Travel_Frequently  Research & Development               8   \n",
       "4     37         1      Travel_Rarely  Research & Development               2   \n",
       "5     33         0  Travel_Frequently  Research & Development               3   \n",
       "7     27         0      Travel_Rarely  Research & Development               2   \n",
       "\n",
       "        educacion        carrera satisfaccion_entorno implicacion  \\\n",
       "id                                                                  \n",
       "1   Universitaria  Life Sciences                Media        Alta   \n",
       "2      Secundaria  Life Sciences                 Alta       Media   \n",
       "4      Secundaria          Other             Muy_Alta       Media   \n",
       "5   Universitaria  Life Sciences             Muy_Alta        Alta   \n",
       "7   Universitaria        Medical                 Baja        Alta   \n",
       "\n",
       "    nivel_laboral  ... evaluacion satisfaccion_companeros nivel_acciones  \\\n",
       "id                 ...                                                     \n",
       "1               2  ...       Alta                    Baja              0   \n",
       "2               2  ...   Muy_Alta                Muy_Alta              1   \n",
       "4               1  ...       Alta                   Media              0   \n",
       "5               1  ...       Alta                    Alta              0   \n",
       "7               1  ...       Alta                Muy_Alta              1   \n",
       "\n",
       "    anos_experiencia  num_formaciones_ult_ano anos_compania  \\\n",
       "id                                                            \n",
       "1                  8                        0             6   \n",
       "2                 10                        3            10   \n",
       "4                  7                        3             0   \n",
       "5                  8                        3             8   \n",
       "7                  6                        3             2   \n",
       "\n",
       "    anos_desde_ult_promocion anos_con_manager_actual salario_anual  \\\n",
       "id                                                                   \n",
       "1                          0                       5         71916   \n",
       "2                          1                       7         61560   \n",
       "4                          0                       0         25080   \n",
       "5                          3                       0         34908   \n",
       "7                          2                       2         41616   \n",
       "\n",
       "    impacto_abandono  \n",
       "id                    \n",
       "1          14670.864  \n",
       "2          12558.240  \n",
       "4           4037.880  \n",
       "5           6876.876  \n",
       "7           8198.352  \n",
       "\n",
       "[5 rows x 27 columns]"
      ]
     },
     "execution_count": 26,
     "metadata": {},
     "output_type": "execute_result"
    }
   ],
   "source": [
    "# Calculte the economic impact if the employee leave the company\n",
    "conditions = [(df['salario_anual'] <= 30000),\n",
    "              (df['salario_anual'] > 30000) & (df['salario_anual'] < 50000),\n",
    "              (df['salario_anual'] > 50000) & (df['salario_anual'] <= 75000),\n",
    "              (df['salario_anual'] > 75000)]\n",
    "\n",
    "results = [df.salario_anual * 0.161, df.salario_anual * 0.197,\\\n",
    "           df.salario_anual * 0.204, df.salario_anual * 0.21]\n",
    "\n",
    "df['impacto_abandono'] = np.select(conditions, results, default=-999)\n",
    "df.head()"
   ]
  },
  {
   "cell_type": "markdown",
   "id": "6d70e958",
   "metadata": {
    "papermill": {
     "duration": 0.014049,
     "end_time": "2024-01-25T22:27:57.063785",
     "exception": false,
     "start_time": "2024-01-25T22:27:57.049736",
     "status": "completed"
    },
    "tags": []
   },
   "source": [
    "### How much has this problem cost us in the last year?"
   ]
  },
  {
   "cell_type": "code",
   "execution_count": 27,
   "id": "403f9a16",
   "metadata": {
    "execution": {
     "iopub.execute_input": "2024-01-25T22:27:57.095288Z",
     "iopub.status.busy": "2024-01-25T22:27:57.094451Z",
     "iopub.status.idle": "2024-01-25T22:27:57.103597Z",
     "shell.execute_reply": "2024-01-25T22:27:57.102565Z"
    },
    "papermill": {
     "duration": 0.027419,
     "end_time": "2024-01-25T22:27:57.105602",
     "exception": false,
     "start_time": "2024-01-25T22:27:57.078183",
     "status": "completed"
    },
    "tags": []
   },
   "outputs": [
    {
     "data": {
      "text/plain": [
       "2719005.912"
      ]
     },
     "execution_count": 27,
     "metadata": {},
     "output_type": "execute_result"
    }
   ],
   "source": [
    "coste_total = df.loc[df.abandono == 1].impacto_abandono.sum()\n",
    "coste_total"
   ]
  },
  {
   "cell_type": "markdown",
   "id": "e5b522c0",
   "metadata": {
    "papermill": {
     "duration": 0.014563,
     "end_time": "2024-01-25T22:27:57.135611",
     "exception": false,
     "start_time": "2024-01-25T22:27:57.121048",
     "status": "completed"
    },
    "tags": []
   },
   "source": [
    "### How much does it cost us that employees aren't motivated?"
   ]
  },
  {
   "cell_type": "code",
   "execution_count": 28,
   "id": "db7c6525",
   "metadata": {
    "execution": {
     "iopub.execute_input": "2024-01-25T22:27:57.167259Z",
     "iopub.status.busy": "2024-01-25T22:27:57.166706Z",
     "iopub.status.idle": "2024-01-25T22:27:57.179693Z",
     "shell.execute_reply": "2024-01-25T22:27:57.177767Z"
    },
    "papermill": {
     "duration": 0.032167,
     "end_time": "2024-01-25T22:27:57.182292",
     "exception": false,
     "start_time": "2024-01-25T22:27:57.150125",
     "status": "completed"
    },
    "tags": []
   },
   "outputs": [
    {
     "data": {
      "text/plain": [
       "368672.688"
      ]
     },
     "execution_count": 28,
     "metadata": {},
     "output_type": "execute_result"
    }
   ],
   "source": [
    "df.loc[(df.abandono == 1) & (df.implicacion == 'Baja')].impacto_abandono.sum()"
   ]
  },
  {
   "cell_type": "markdown",
   "id": "dcea1e68",
   "metadata": {
    "papermill": {
     "duration": 0.014987,
     "end_time": "2024-01-25T22:27:57.212377",
     "exception": false,
     "start_time": "2024-01-25T22:27:57.197390",
     "status": "completed"
    },
    "tags": []
   },
   "source": [
    "### How much could we save by building employee loyalty?"
   ]
  },
  {
   "cell_type": "code",
   "execution_count": 29,
   "id": "905708b6",
   "metadata": {
    "execution": {
     "iopub.execute_input": "2024-01-25T22:27:57.244544Z",
     "iopub.status.busy": "2024-01-25T22:27:57.243557Z",
     "iopub.status.idle": "2024-01-25T22:27:57.250354Z",
     "shell.execute_reply": "2024-01-25T22:27:57.248965Z"
    },
    "papermill": {
     "duration": 0.025031,
     "end_time": "2024-01-25T22:27:57.252322",
     "exception": false,
     "start_time": "2024-01-25T22:27:57.227291",
     "status": "completed"
    },
    "tags": []
   },
   "outputs": [
    {
     "name": "stdout",
     "output_type": "stream",
     "text": [
      "Reducir un 10% la fuga de empleados nos ahorraría 271900$ cada año.\n",
      "Reducir un 20% la fuga de empleados nos ahorraría 543801$ cada año.\n",
      "Reducir un 30% la fuga de empleados nos ahorraría 815701$ cada año.\n"
     ]
    }
   ],
   "source": [
    "print(f\"Reducir un 10% la fuga de empleados nos ahorraría {int(coste_total * 0.1)}$ cada año.\")\n",
    "\n",
    "print(f\"Reducir un 20% la fuga de empleados nos ahorraría {int(coste_total * 0.2)}$ cada año.\")\n",
    "\n",
    "print(f\"Reducir un 30% la fuga de empleados nos ahorraría {int(coste_total * 0.3)}$ cada año.\")"
   ]
  },
  {
   "cell_type": "code",
   "execution_count": null,
   "id": "06a3dfbe",
   "metadata": {
    "papermill": {
     "duration": 0.01429,
     "end_time": "2024-01-25T22:27:57.281505",
     "exception": false,
     "start_time": "2024-01-25T22:27:57.267215",
     "status": "completed"
    },
    "tags": []
   },
   "outputs": [],
   "source": []
  }
 ],
 "metadata": {
  "kaggle": {
   "accelerator": "none",
   "dataSources": [
    {
     "datasetId": 4345556,
     "sourceId": 7465462,
     "sourceType": "datasetVersion"
    }
   ],
   "dockerImageVersionId": 30635,
   "isGpuEnabled": false,
   "isInternetEnabled": true,
   "language": "python",
   "sourceType": "notebook"
  },
  "kernelspec": {
   "display_name": "Python 3",
   "language": "python",
   "name": "python3"
  },
  "language_info": {
   "codemirror_mode": {
    "name": "ipython",
    "version": 3
   },
   "file_extension": ".py",
   "mimetype": "text/x-python",
   "name": "python",
   "nbconvert_exporter": "python",
   "pygments_lexer": "ipython3",
   "version": "3.10.12"
  },
  "papermill": {
   "default_parameters": {},
   "duration": 10.824882,
   "end_time": "2024-01-25T22:27:58.118987",
   "environment_variables": {},
   "exception": null,
   "input_path": "__notebook__.ipynb",
   "output_path": "__notebook__.ipynb",
   "parameters": {},
   "start_time": "2024-01-25T22:27:47.294105",
   "version": "2.4.0"
  }
 },
 "nbformat": 4,
 "nbformat_minor": 5
}
