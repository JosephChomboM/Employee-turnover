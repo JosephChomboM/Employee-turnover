{
 "cells": [
  {
   "cell_type": "code",
   "execution_count": 1,
   "id": "6e02b49d",
   "metadata": {
    "_cell_guid": "b1076dfc-b9ad-4769-8c92-a6c4dae69d19",
    "_uuid": "8f2839f25d086af736a60e9eeb907d3b93b6e0e5",
    "execution": {
     "iopub.execute_input": "2024-01-25T22:27:50.132081Z",
     "iopub.status.busy": "2024-01-25T22:27:50.131461Z",
     "iopub.status.idle": "2024-01-25T22:27:50.466989Z",
     "shell.execute_reply": "2024-01-25T22:27:50.465596Z"
    },
    "papermill": {
     "duration": 0.349955,
     "end_time": "2024-01-25T22:27:50.469630",
     "exception": false,
     "start_time": "2024-01-25T22:27:50.119675",
     "status": "completed"
    },
    "tags": []
   },
   "outputs": [],
   "source": [
    "import numpy as np # linear algebra\n",
    "import pandas as pd # data processing, CSV file I/O (e.g. pd.read_csv)\n",
    "\n",
    "import os\n",
    "for dirname, _, filenames in os.walk('/kaggle/input'):\n",
    "    for filename in filenames:\n",
    "        print(os.path.join(dirname, filename))\n",
    "\n"
   ]
  },
  {
   "cell_type": "code",
   "execution_count": null,
   "id": "5b502b13",
   "metadata": {
    "execution": {
     "iopub.execute_input": "2024-01-25T22:27:50.493334Z",
     "iopub.status.busy": "2024-01-25T22:27:50.492820Z",
     "iopub.status.idle": "2024-01-25T22:27:51.854751Z",
     "shell.execute_reply": "2024-01-25T22:27:51.853793Z"
    },
    "papermill": {
     "duration": 1.376542,
     "end_time": "2024-01-25T22:27:51.857499",
     "exception": false,
     "start_time": "2024-01-25T22:27:50.480957",
     "status": "completed"
    },
    "tags": []
   },
   "outputs": [],
   "source": [
    "import seaborn as sns\n",
    "import matplotlib.pyplot as plt\n"
   ]
  },
  {
   "cell_type": "code",
   "execution_count": 4,
   "id": "f842723d",
   "metadata": {
    "execution": {
     "iopub.execute_input": "2024-01-25T22:27:51.877777Z",
     "iopub.status.busy": "2024-01-25T22:27:51.877218Z",
     "iopub.status.idle": "2024-01-25T22:27:51.952585Z",
     "shell.execute_reply": "2024-01-25T22:27:51.951898Z"
    },
    "papermill": {
     "duration": 0.088575,
     "end_time": "2024-01-25T22:27:51.955326",
     "exception": false,
     "start_time": "2024-01-25T22:27:51.866751",
     "status": "completed"
    },
    "tags": []
   },
   "outputs": [
    {
     "data": {
      "text/html": [
       "<div>\n",
       "<style scoped>\n",
       "    .dataframe tbody tr th:only-of-type {\n",
       "        vertical-align: middle;\n",
       "    }\n",
       "\n",
       "    .dataframe tbody tr th {\n",
       "        vertical-align: top;\n",
       "    }\n",
       "\n",
       "    .dataframe thead th {\n",
       "        text-align: right;\n",
       "    }\n",
       "</style>\n",
       "<table border=\"1\" class=\"dataframe\">\n",
       "  <thead>\n",
       "    <tr style=\"text-align: right;\">\n",
       "      <th></th>\n",
       "      <th>edad</th>\n",
       "      <th>abandono</th>\n",
       "      <th>viajes</th>\n",
       "      <th>departamento</th>\n",
       "      <th>distancia_casa</th>\n",
       "      <th>educacion</th>\n",
       "      <th>carrera</th>\n",
       "      <th>empleados</th>\n",
       "      <th>satisfaccion_entorno</th>\n",
       "      <th>sexo</th>\n",
       "      <th>...</th>\n",
       "      <th>satisfaccion_companeros</th>\n",
       "      <th>horas_quincena</th>\n",
       "      <th>nivel_acciones</th>\n",
       "      <th>anos_experiencia</th>\n",
       "      <th>num_formaciones_ult_ano</th>\n",
       "      <th>conciliacion</th>\n",
       "      <th>anos_compania</th>\n",
       "      <th>anos_en_puesto</th>\n",
       "      <th>anos_desde_ult_promocion</th>\n",
       "      <th>anos_con_manager_actual</th>\n",
       "    </tr>\n",
       "    <tr>\n",
       "      <th>id</th>\n",
       "      <th></th>\n",
       "      <th></th>\n",
       "      <th></th>\n",
       "      <th></th>\n",
       "      <th></th>\n",
       "      <th></th>\n",
       "      <th></th>\n",
       "      <th></th>\n",
       "      <th></th>\n",
       "      <th></th>\n",
       "      <th></th>\n",
       "      <th></th>\n",
       "      <th></th>\n",
       "      <th></th>\n",
       "      <th></th>\n",
       "      <th></th>\n",
       "      <th></th>\n",
       "      <th></th>\n",
       "      <th></th>\n",
       "      <th></th>\n",
       "      <th></th>\n",
       "    </tr>\n",
       "  </thead>\n",
       "  <tbody>\n",
       "    <tr>\n",
       "      <th>1</th>\n",
       "      <td>41</td>\n",
       "      <td>Yes</td>\n",
       "      <td>Travel_Rarely</td>\n",
       "      <td>Sales</td>\n",
       "      <td>1</td>\n",
       "      <td>Universitaria</td>\n",
       "      <td>Life Sciences</td>\n",
       "      <td>1</td>\n",
       "      <td>Media</td>\n",
       "      <td>3.0</td>\n",
       "      <td>...</td>\n",
       "      <td>Baja</td>\n",
       "      <td>80</td>\n",
       "      <td>0</td>\n",
       "      <td>8</td>\n",
       "      <td>0</td>\n",
       "      <td>NaN</td>\n",
       "      <td>6</td>\n",
       "      <td>NaN</td>\n",
       "      <td>0</td>\n",
       "      <td>5</td>\n",
       "    </tr>\n",
       "    <tr>\n",
       "      <th>2</th>\n",
       "      <td>49</td>\n",
       "      <td>No</td>\n",
       "      <td>Travel_Frequently</td>\n",
       "      <td>Research &amp; Development</td>\n",
       "      <td>8</td>\n",
       "      <td>Secundaria</td>\n",
       "      <td>Life Sciences</td>\n",
       "      <td>1</td>\n",
       "      <td>Alta</td>\n",
       "      <td>2.0</td>\n",
       "      <td>...</td>\n",
       "      <td>Muy_Alta</td>\n",
       "      <td>80</td>\n",
       "      <td>1</td>\n",
       "      <td>10</td>\n",
       "      <td>3</td>\n",
       "      <td>NaN</td>\n",
       "      <td>10</td>\n",
       "      <td>NaN</td>\n",
       "      <td>1</td>\n",
       "      <td>7</td>\n",
       "    </tr>\n",
       "    <tr>\n",
       "      <th>4</th>\n",
       "      <td>37</td>\n",
       "      <td>Yes</td>\n",
       "      <td>Travel_Rarely</td>\n",
       "      <td>Research &amp; Development</td>\n",
       "      <td>2</td>\n",
       "      <td>Secundaria</td>\n",
       "      <td>Other</td>\n",
       "      <td>1</td>\n",
       "      <td>Muy_Alta</td>\n",
       "      <td>2.0</td>\n",
       "      <td>...</td>\n",
       "      <td>Media</td>\n",
       "      <td>80</td>\n",
       "      <td>0</td>\n",
       "      <td>7</td>\n",
       "      <td>3</td>\n",
       "      <td>NaN</td>\n",
       "      <td>0</td>\n",
       "      <td>2.0</td>\n",
       "      <td>0</td>\n",
       "      <td>0</td>\n",
       "    </tr>\n",
       "    <tr>\n",
       "      <th>5</th>\n",
       "      <td>33</td>\n",
       "      <td>No</td>\n",
       "      <td>Travel_Frequently</td>\n",
       "      <td>Research &amp; Development</td>\n",
       "      <td>3</td>\n",
       "      <td>Universitaria</td>\n",
       "      <td>Life Sciences</td>\n",
       "      <td>1</td>\n",
       "      <td>Muy_Alta</td>\n",
       "      <td>3.0</td>\n",
       "      <td>...</td>\n",
       "      <td>Alta</td>\n",
       "      <td>80</td>\n",
       "      <td>0</td>\n",
       "      <td>8</td>\n",
       "      <td>3</td>\n",
       "      <td>NaN</td>\n",
       "      <td>8</td>\n",
       "      <td>3.0</td>\n",
       "      <td>3</td>\n",
       "      <td>0</td>\n",
       "    </tr>\n",
       "    <tr>\n",
       "      <th>7</th>\n",
       "      <td>27</td>\n",
       "      <td>No</td>\n",
       "      <td>Travel_Rarely</td>\n",
       "      <td>Research &amp; Development</td>\n",
       "      <td>2</td>\n",
       "      <td>Universitaria</td>\n",
       "      <td>Medical</td>\n",
       "      <td>1</td>\n",
       "      <td>Baja</td>\n",
       "      <td>3.0</td>\n",
       "      <td>...</td>\n",
       "      <td>Muy_Alta</td>\n",
       "      <td>80</td>\n",
       "      <td>1</td>\n",
       "      <td>6</td>\n",
       "      <td>3</td>\n",
       "      <td>NaN</td>\n",
       "      <td>2</td>\n",
       "      <td>NaN</td>\n",
       "      <td>2</td>\n",
       "      <td>2</td>\n",
       "    </tr>\n",
       "    <tr>\n",
       "      <th>...</th>\n",
       "      <td>...</td>\n",
       "      <td>...</td>\n",
       "      <td>...</td>\n",
       "      <td>...</td>\n",
       "      <td>...</td>\n",
       "      <td>...</td>\n",
       "      <td>...</td>\n",
       "      <td>...</td>\n",
       "      <td>...</td>\n",
       "      <td>...</td>\n",
       "      <td>...</td>\n",
       "      <td>...</td>\n",
       "      <td>...</td>\n",
       "      <td>...</td>\n",
       "      <td>...</td>\n",
       "      <td>...</td>\n",
       "      <td>...</td>\n",
       "      <td>...</td>\n",
       "      <td>...</td>\n",
       "      <td>...</td>\n",
       "      <td>...</td>\n",
       "    </tr>\n",
       "    <tr>\n",
       "      <th>2061</th>\n",
       "      <td>36</td>\n",
       "      <td>No</td>\n",
       "      <td>Travel_Frequently</td>\n",
       "      <td>Research &amp; Development</td>\n",
       "      <td>23</td>\n",
       "      <td>Master</td>\n",
       "      <td>Medical</td>\n",
       "      <td>1</td>\n",
       "      <td>Alta</td>\n",
       "      <td>4.0</td>\n",
       "      <td>...</td>\n",
       "      <td>Alta</td>\n",
       "      <td>80</td>\n",
       "      <td>1</td>\n",
       "      <td>17</td>\n",
       "      <td>3</td>\n",
       "      <td>NaN</td>\n",
       "      <td>5</td>\n",
       "      <td>4.0</td>\n",
       "      <td>0</td>\n",
       "      <td>3</td>\n",
       "    </tr>\n",
       "    <tr>\n",
       "      <th>2062</th>\n",
       "      <td>39</td>\n",
       "      <td>No</td>\n",
       "      <td>Travel_Rarely</td>\n",
       "      <td>Research &amp; Development</td>\n",
       "      <td>6</td>\n",
       "      <td>Secundaria</td>\n",
       "      <td>Medical</td>\n",
       "      <td>1</td>\n",
       "      <td>Muy_Alta</td>\n",
       "      <td>2.0</td>\n",
       "      <td>...</td>\n",
       "      <td>Baja</td>\n",
       "      <td>80</td>\n",
       "      <td>1</td>\n",
       "      <td>9</td>\n",
       "      <td>5</td>\n",
       "      <td>NaN</td>\n",
       "      <td>7</td>\n",
       "      <td>NaN</td>\n",
       "      <td>1</td>\n",
       "      <td>7</td>\n",
       "    </tr>\n",
       "    <tr>\n",
       "      <th>2064</th>\n",
       "      <td>27</td>\n",
       "      <td>No</td>\n",
       "      <td>Travel_Rarely</td>\n",
       "      <td>Research &amp; Development</td>\n",
       "      <td>4</td>\n",
       "      <td>Master</td>\n",
       "      <td>Life Sciences</td>\n",
       "      <td>1</td>\n",
       "      <td>Media</td>\n",
       "      <td>4.0</td>\n",
       "      <td>...</td>\n",
       "      <td>Media</td>\n",
       "      <td>80</td>\n",
       "      <td>1</td>\n",
       "      <td>6</td>\n",
       "      <td>0</td>\n",
       "      <td>NaN</td>\n",
       "      <td>6</td>\n",
       "      <td>NaN</td>\n",
       "      <td>0</td>\n",
       "      <td>3</td>\n",
       "    </tr>\n",
       "    <tr>\n",
       "      <th>2065</th>\n",
       "      <td>49</td>\n",
       "      <td>No</td>\n",
       "      <td>Travel_Frequently</td>\n",
       "      <td>Sales</td>\n",
       "      <td>2</td>\n",
       "      <td>Secundaria</td>\n",
       "      <td>Medical</td>\n",
       "      <td>1</td>\n",
       "      <td>Muy_Alta</td>\n",
       "      <td>NaN</td>\n",
       "      <td>...</td>\n",
       "      <td>Muy_Alta</td>\n",
       "      <td>80</td>\n",
       "      <td>0</td>\n",
       "      <td>17</td>\n",
       "      <td>3</td>\n",
       "      <td>NaN</td>\n",
       "      <td>9</td>\n",
       "      <td>NaN</td>\n",
       "      <td>0</td>\n",
       "      <td>8</td>\n",
       "    </tr>\n",
       "    <tr>\n",
       "      <th>2068</th>\n",
       "      <td>34</td>\n",
       "      <td>No</td>\n",
       "      <td>Travel_Rarely</td>\n",
       "      <td>Research &amp; Development</td>\n",
       "      <td>8</td>\n",
       "      <td>NaN</td>\n",
       "      <td>Medical</td>\n",
       "      <td>1</td>\n",
       "      <td>Media</td>\n",
       "      <td>4.0</td>\n",
       "      <td>...</td>\n",
       "      <td>Baja</td>\n",
       "      <td>80</td>\n",
       "      <td>0</td>\n",
       "      <td>6</td>\n",
       "      <td>3</td>\n",
       "      <td>Muy_Alta</td>\n",
       "      <td>4</td>\n",
       "      <td>NaN</td>\n",
       "      <td>1</td>\n",
       "      <td>2</td>\n",
       "    </tr>\n",
       "  </tbody>\n",
       "</table>\n",
       "<p>1470 rows × 31 columns</p>\n",
       "</div>"
      ],
      "text/plain": [
       "      edad abandono             viajes            departamento  \\\n",
       "id                                                               \n",
       "1       41      Yes      Travel_Rarely                   Sales   \n",
       "2       49       No  Travel_Frequently  Research & Development   \n",
       "4       37      Yes      Travel_Rarely  Research & Development   \n",
       "5       33       No  Travel_Frequently  Research & Development   \n",
       "7       27       No      Travel_Rarely  Research & Development   \n",
       "...    ...      ...                ...                     ...   \n",
       "2061    36       No  Travel_Frequently  Research & Development   \n",
       "2062    39       No      Travel_Rarely  Research & Development   \n",
       "2064    27       No      Travel_Rarely  Research & Development   \n",
       "2065    49       No  Travel_Frequently                   Sales   \n",
       "2068    34       No      Travel_Rarely  Research & Development   \n",
       "\n",
       "      distancia_casa      educacion        carrera  empleados  \\\n",
       "id                                                              \n",
       "1                  1  Universitaria  Life Sciences          1   \n",
       "2                  8     Secundaria  Life Sciences          1   \n",
       "4                  2     Secundaria          Other          1   \n",
       "5                  3  Universitaria  Life Sciences          1   \n",
       "7                  2  Universitaria        Medical          1   \n",
       "...              ...            ...            ...        ...   \n",
       "2061              23         Master        Medical          1   \n",
       "2062               6     Secundaria        Medical          1   \n",
       "2064               4         Master  Life Sciences          1   \n",
       "2065               2     Secundaria        Medical          1   \n",
       "2068               8            NaN        Medical          1   \n",
       "\n",
       "     satisfaccion_entorno  sexo  ... satisfaccion_companeros  horas_quincena  \\\n",
       "id                               ...                                           \n",
       "1                   Media   3.0  ...                    Baja              80   \n",
       "2                    Alta   2.0  ...                Muy_Alta              80   \n",
       "4                Muy_Alta   2.0  ...                   Media              80   \n",
       "5                Muy_Alta   3.0  ...                    Alta              80   \n",
       "7                    Baja   3.0  ...                Muy_Alta              80   \n",
       "...                   ...   ...  ...                     ...             ...   \n",
       "2061                 Alta   4.0  ...                    Alta              80   \n",
       "2062             Muy_Alta   2.0  ...                    Baja              80   \n",
       "2064                Media   4.0  ...                   Media              80   \n",
       "2065             Muy_Alta   NaN  ...                Muy_Alta              80   \n",
       "2068                Media   4.0  ...                    Baja              80   \n",
       "\n",
       "     nivel_acciones anos_experiencia num_formaciones_ult_ano  conciliacion  \\\n",
       "id                                                                           \n",
       "1                 0                8                       0           NaN   \n",
       "2                 1               10                       3           NaN   \n",
       "4                 0                7                       3           NaN   \n",
       "5                 0                8                       3           NaN   \n",
       "7                 1                6                       3           NaN   \n",
       "...             ...              ...                     ...           ...   \n",
       "2061              1               17                       3           NaN   \n",
       "2062              1                9                       5           NaN   \n",
       "2064              1                6                       0           NaN   \n",
       "2065              0               17                       3           NaN   \n",
       "2068              0                6                       3      Muy_Alta   \n",
       "\n",
       "      anos_compania anos_en_puesto anos_desde_ult_promocion  \\\n",
       "id                                                            \n",
       "1                 6            NaN                        0   \n",
       "2                10            NaN                        1   \n",
       "4                 0            2.0                        0   \n",
       "5                 8            3.0                        3   \n",
       "7                 2            NaN                        2   \n",
       "...             ...            ...                      ...   \n",
       "2061              5            4.0                        0   \n",
       "2062              7            NaN                        1   \n",
       "2064              6            NaN                        0   \n",
       "2065              9            NaN                        0   \n",
       "2068              4            NaN                        1   \n",
       "\n",
       "      anos_con_manager_actual  \n",
       "id                             \n",
       "1                           5  \n",
       "2                           7  \n",
       "4                           0  \n",
       "5                           0  \n",
       "7                           2  \n",
       "...                       ...  \n",
       "2061                        3  \n",
       "2062                        7  \n",
       "2064                        3  \n",
       "2065                        8  \n",
       "2068                        2  \n",
       "\n",
       "[1470 rows x 31 columns]"
      ]
     },
     "execution_count": 4,
     "metadata": {},
     "output_type": "execute_result"
    }
   ],
   "source": [
    "df = pd.read_csv('data\\AbandonoEmpleados.csv', sep =';', index_col='id', na_values='#N/D')\n",
    "df"
   ]
  },
  {
   "cell_type": "markdown",
   "id": "f01bae4c",
   "metadata": {
    "papermill": {
     "duration": 0.00818,
     "end_time": "2024-01-25T22:27:51.972672",
     "exception": false,
     "start_time": "2024-01-25T22:27:51.964492",
     "status": "completed"
    },
    "tags": []
   },
   "source": [
    "# BUSINESS ANALYTICS"
   ]
  },
  {
   "cell_type": "code",
   "execution_count": null,
   "id": "a2efbce3",
   "metadata": {
    "execution": {
     "iopub.execute_input": "2024-01-25T22:27:51.994037Z",
     "iopub.status.busy": "2024-01-25T22:27:51.993534Z",
     "iopub.status.idle": "2024-01-25T22:27:52.090539Z",
     "shell.execute_reply": "2024-01-25T22:27:52.089556Z"
    },
    "papermill": {
     "duration": 0.112728,
     "end_time": "2024-01-25T22:27:52.093575",
     "exception": false,
     "start_time": "2024-01-25T22:27:51.980847",
     "status": "completed"
    },
    "tags": []
   },
   "outputs": [],
   "source": [
    "df.info()"
   ]
  },
  {
   "cell_type": "markdown",
   "id": "8dc29d57",
   "metadata": {
    "papermill": {
     "duration": 0.008728,
     "end_time": "2024-01-25T22:27:52.111611",
     "exception": false,
     "start_time": "2024-01-25T22:27:52.102883",
     "status": "completed"
    },
    "tags": []
   },
   "source": [
    "## Null Analysis"
   ]
  },
  {
   "cell_type": "code",
   "execution_count": null,
   "id": "26796550",
   "metadata": {
    "execution": {
     "iopub.execute_input": "2024-01-25T22:27:52.131944Z",
     "iopub.status.busy": "2024-01-25T22:27:52.131475Z",
     "iopub.status.idle": "2024-01-25T22:27:52.143286Z",
     "shell.execute_reply": "2024-01-25T22:27:52.141964Z"
    },
    "papermill": {
     "duration": 0.024606,
     "end_time": "2024-01-25T22:27:52.145258",
     "exception": false,
     "start_time": "2024-01-25T22:27:52.120652",
     "status": "completed"
    },
    "tags": []
   },
   "outputs": [],
   "source": [
    "miss = df.isna().sum().sort_values(ascending=False)\n",
    "miss"
   ]
  },
  {
   "cell_type": "code",
   "execution_count": null,
   "id": "c1f44015",
   "metadata": {
    "execution": {
     "iopub.execute_input": "2024-01-25T22:27:52.165133Z",
     "iopub.status.busy": "2024-01-25T22:27:52.164752Z",
     "iopub.status.idle": "2024-01-25T22:27:52.173736Z",
     "shell.execute_reply": "2024-01-25T22:27:52.172593Z"
    },
    "papermill": {
     "duration": 0.021204,
     "end_time": "2024-01-25T22:27:52.175656",
     "exception": false,
     "start_time": "2024-01-25T22:27:52.154452",
     "status": "completed"
    },
    "tags": []
   },
   "outputs": [],
   "source": [
    "\n",
    "miss_percentage = miss / len(df)\n",
    "filtered = miss_percentage[miss_percentage != 0]\n",
    "filtered"
   ]
  },
  {
   "cell_type": "code",
   "execution_count": null,
   "id": "865ed950",
   "metadata": {
    "execution": {
     "iopub.execute_input": "2024-01-25T22:27:52.197134Z",
     "iopub.status.busy": "2024-01-25T22:27:52.196777Z",
     "iopub.status.idle": "2024-01-25T22:27:52.453873Z",
     "shell.execute_reply": "2024-01-25T22:27:52.453163Z"
    },
    "papermill": {
     "duration": 0.269391,
     "end_time": "2024-01-25T22:27:52.455858",
     "exception": false,
     "start_time": "2024-01-25T22:27:52.186467",
     "status": "completed"
    },
    "tags": []
   },
   "outputs": [],
   "source": [
    "plt.figure(figsize=(6,3))\n",
    "sns.barplot(x=filtered.values, y=filtered.index).set(title='Percentage of missing values', ylabel='Variables')\n"
   ]
  },
  {
   "cell_type": "markdown",
   "id": "d89a0761",
   "metadata": {
    "papermill": {
     "duration": 0.009102,
     "end_time": "2024-01-25T22:27:52.474863",
     "exception": false,
     "start_time": "2024-01-25T22:27:52.465761",
     "status": "completed"
    },
    "tags": []
   },
   "source": [
    "#### Conclusions\n",
    "- anos_en_puesto, conciliacion -> delete variables\n",
    "- sexo,educacion,satisfaccion_trabajo,implicacion -> imputed after EDA"
   ]
  },
  {
   "cell_type": "markdown",
   "id": "7b3355fd",
   "metadata": {
    "papermill": {
     "duration": 0.008788,
     "end_time": "2024-01-25T22:27:52.492909",
     "exception": false,
     "start_time": "2024-01-25T22:27:52.484121",
     "status": "completed"
    },
    "tags": []
   },
   "source": [
    "### Elimination of variables with 30% or more missing data"
   ]
  },
  {
   "cell_type": "code",
   "execution_count": null,
   "id": "a98f4a9d",
   "metadata": {
    "_kg_hide-output": true,
    "execution": {
     "iopub.execute_input": "2024-01-25T22:27:52.513079Z",
     "iopub.status.busy": "2024-01-25T22:27:52.512155Z",
     "iopub.status.idle": "2024-01-25T22:27:52.526986Z",
     "shell.execute_reply": "2024-01-25T22:27:52.525710Z"
    },
    "papermill": {
     "duration": 0.0269,
     "end_time": "2024-01-25T22:27:52.528853",
     "exception": false,
     "start_time": "2024-01-25T22:27:52.501953",
     "status": "completed"
    },
    "tags": []
   },
   "outputs": [],
   "source": [
    "df.drop(columns=['anos_en_puesto','conciliacion'], inplace=True)\n",
    "df.info()"
   ]
  },
  {
   "cell_type": "code",
   "execution_count": null,
   "id": "ccf73cbb",
   "metadata": {
    "execution": {
     "iopub.execute_input": "2024-01-25T22:27:52.551093Z",
     "iopub.status.busy": "2024-01-25T22:27:52.550291Z",
     "iopub.status.idle": "2024-01-25T22:27:52.556850Z",
     "shell.execute_reply": "2024-01-25T22:27:52.555930Z"
    },
    "papermill": {
     "duration": 0.019675,
     "end_time": "2024-01-25T22:27:52.558786",
     "exception": false,
     "start_time": "2024-01-25T22:27:52.539111",
     "status": "completed"
    },
    "tags": []
   },
   "outputs": [],
   "source": [
    "obj =df.select_dtypes('O')\n",
    "obj.shape[1]"
   ]
  },
  {
   "cell_type": "markdown",
   "id": "94343289",
   "metadata": {
    "papermill": {
     "duration": 0.010241,
     "end_time": "2024-01-25T22:27:52.579810",
     "exception": false,
     "start_time": "2024-01-25T22:27:52.569569",
     "status": "completed"
    },
    "tags": []
   },
   "source": [
    "## EDA - Categorical VariablesData"
   ]
  },
  {
   "cell_type": "code",
   "execution_count": null,
   "id": "b25047bc",
   "metadata": {
    "execution": {
     "iopub.execute_input": "2024-01-25T22:27:52.601206Z",
     "iopub.status.busy": "2024-01-25T22:27:52.600115Z",
     "iopub.status.idle": "2024-01-25T22:27:52.606585Z",
     "shell.execute_reply": "2024-01-25T22:27:52.605894Z"
    },
    "papermill": {
     "duration": 0.01966,
     "end_time": "2024-01-25T22:27:52.608958",
     "exception": false,
     "start_time": "2024-01-25T22:27:52.589298",
     "status": "completed"
    },
    "tags": []
   },
   "outputs": [],
   "source": [
    "from math import ceil\n",
    "\n",
    "def eda_categorical_chart(cat):\n",
    "    n_rows_subplot = ceil(cat.shape[1]/2)\n",
    "    g,ax = plt.subplots(nrows=n_rows_subplot, ncols= 2, figsize= (16, n_rows_subplot*6))\n",
    "    ax = ax.flat\n",
    "    \n",
    "    for my_index, my_column in enumerate(cat):\n",
    "        cat[my_column].value_counts().plot.barh(ax=ax[my_index])\n",
    "        ax[my_index].set_title(my_column,fontsize=12,fontweight='bold')\n",
    "        ax[my_index].tick_params(labelsize=12)\n",
    "        "
   ]
  },
  {
   "cell_type": "code",
   "execution_count": null,
   "id": "7251a954",
   "metadata": {
    "execution": {
     "iopub.execute_input": "2024-01-25T22:27:52.632996Z",
     "iopub.status.busy": "2024-01-25T22:27:52.631119Z",
     "iopub.status.idle": "2024-01-25T22:27:55.030044Z",
     "shell.execute_reply": "2024-01-25T22:27:55.029198Z"
    },
    "papermill": {
     "duration": 2.412416,
     "end_time": "2024-01-25T22:27:55.032188",
     "exception": false,
     "start_time": "2024-01-25T22:27:52.619772",
     "status": "completed"
    },
    "tags": []
   },
   "outputs": [],
   "source": [
    "eda_categorical_chart(df.select_dtypes('O'))"
   ]
  },
  {
   "cell_type": "markdown",
   "id": "d6ac6df6",
   "metadata": {
    "papermill": {
     "duration": 0.011091,
     "end_time": "2024-01-25T22:27:55.113470",
     "exception": false,
     "start_time": "2024-01-25T22:27:55.102379",
     "status": "completed"
    },
    "tags": []
   },
   "source": [
    "### Conclutions\n",
    "* mayor_edad has a single value -> delete variable\n",
    "\n",
    "* pending inputations:\n",
    "    * educacion -> Universitaria \n",
    "    * satisfaccion_trabajo -> Alta\n",
    "    * implicacion -> Alta"
   ]
  },
  {
   "cell_type": "code",
   "execution_count": null,
   "id": "eac63d52",
   "metadata": {
    "execution": {
     "iopub.execute_input": "2024-01-25T22:27:55.139343Z",
     "iopub.status.busy": "2024-01-25T22:27:55.137846Z",
     "iopub.status.idle": "2024-01-25T22:27:55.147727Z",
     "shell.execute_reply": "2024-01-25T22:27:55.146975Z"
    },
    "papermill": {
     "duration": 0.025669,
     "end_time": "2024-01-25T22:27:55.150327",
     "exception": false,
     "start_time": "2024-01-25T22:27:55.124658",
     "status": "completed"
    },
    "tags": []
   },
   "outputs": [],
   "source": [
    "df.drop(columns = 'mayor_edad', inplace=True)\n",
    "df['educacion'] = df['educacion'].fillna('Universitaria')\n",
    "df['satisfaccion_trabajo'] = df['satisfaccion_trabajo'].fillna('Alta')\n",
    "df['implicacion'] = df['implicacion'].fillna('Alta')"
   ]
  },
  {
   "cell_type": "markdown",
   "id": "d08382ff",
   "metadata": {
    "papermill": {
     "duration": 0.011879,
     "end_time": "2024-01-25T22:27:55.175021",
     "exception": false,
     "start_time": "2024-01-25T22:27:55.163142",
     "status": "completed"
    },
    "tags": []
   },
   "source": [
    "## EDA - Numerical Variables"
   ]
  },
  {
   "cell_type": "code",
   "execution_count": null,
   "id": "175684fa",
   "metadata": {
    "execution": {
     "iopub.execute_input": "2024-01-25T22:27:55.201414Z",
     "iopub.status.busy": "2024-01-25T22:27:55.200981Z",
     "iopub.status.idle": "2024-01-25T22:27:55.246624Z",
     "shell.execute_reply": "2024-01-25T22:27:55.245564Z"
    },
    "papermill": {
     "duration": 0.062308,
     "end_time": "2024-01-25T22:27:55.248970",
     "exception": false,
     "start_time": "2024-01-25T22:27:55.186662",
     "status": "completed"
    },
    "tags": []
   },
   "outputs": [],
   "source": [
    "df.select_dtypes('number').describe()"
   ]
  },
  {
   "cell_type": "code",
   "execution_count": null,
   "id": "ae83c6a7",
   "metadata": {
    "execution": {
     "iopub.execute_input": "2024-01-25T22:27:55.279492Z",
     "iopub.status.busy": "2024-01-25T22:27:55.279114Z",
     "iopub.status.idle": "2024-01-25T22:27:55.284842Z",
     "shell.execute_reply": "2024-01-25T22:27:55.283418Z"
    },
    "papermill": {
     "duration": 0.023683,
     "end_time": "2024-01-25T22:27:55.286978",
     "exception": false,
     "start_time": "2024-01-25T22:27:55.263295",
     "status": "completed"
    },
    "tags": []
   },
   "outputs": [],
   "source": [
    "def my_describe(num):\n",
    "    des = num.describe().T\n",
    "    des['median'] = num.median()\n",
    "    #sorting columns\n",
    "    des = des.iloc[:,[0,1,8,2,3,4,5,6,7]]\n",
    "    return(des)"
   ]
  },
  {
   "cell_type": "code",
   "execution_count": null,
   "id": "17b3343c",
   "metadata": {
    "execution": {
     "iopub.execute_input": "2024-01-25T22:27:55.314224Z",
     "iopub.status.busy": "2024-01-25T22:27:55.313868Z",
     "iopub.status.idle": "2024-01-25T22:27:55.362196Z",
     "shell.execute_reply": "2024-01-25T22:27:55.361180Z"
    },
    "papermill": {
     "duration": 0.063898,
     "end_time": "2024-01-25T22:27:55.364278",
     "exception": false,
     "start_time": "2024-01-25T22:27:55.300380",
     "status": "completed"
    },
    "tags": []
   },
   "outputs": [],
   "source": [
    "my_describe(df.select_dtypes('number'))"
   ]
  },
  {
   "cell_type": "markdown",
   "id": "b87057e3",
   "metadata": {
    "papermill": {
     "duration": 0.011906,
     "end_time": "2024-01-25T22:27:55.389327",
     "exception": false,
     "start_time": "2024-01-25T22:27:55.377421",
     "status": "completed"
    },
    "tags": []
   },
   "source": [
    "### Conclutions\n",
    "* empleados has a single value -> delete\n",
    "* sexo has 4 values -> delete/ we don't know why it has 4 values.\n",
    "* horas_quincena has a single value -> delete."
   ]
  },
  {
   "cell_type": "code",
   "execution_count": null,
   "id": "3788c505",
   "metadata": {
    "execution": {
     "iopub.execute_input": "2024-01-25T22:27:55.419368Z",
     "iopub.status.busy": "2024-01-25T22:27:55.418964Z",
     "iopub.status.idle": "2024-01-25T22:27:55.425124Z",
     "shell.execute_reply": "2024-01-25T22:27:55.424171Z"
    },
    "papermill": {
     "duration": 0.025394,
     "end_time": "2024-01-25T22:27:55.427744",
     "exception": false,
     "start_time": "2024-01-25T22:27:55.402350",
     "status": "completed"
    },
    "tags": []
   },
   "outputs": [],
   "source": [
    "df.drop(columns=['empleados', 'sexo', 'horas_quincena'], inplace=True)\n"
   ]
  },
  {
   "cell_type": "markdown",
   "id": "00d8a3f9",
   "metadata": {
    "papermill": {
     "duration": 0.013017,
     "end_time": "2024-01-25T22:27:55.454319",
     "exception": false,
     "start_time": "2024-01-25T22:27:55.441302",
     "status": "completed"
    },
    "tags": []
   },
   "source": [
    "## INSIGHTS"
   ]
  },
  {
   "cell_type": "markdown",
   "id": "0cdf4e87",
   "metadata": {
    "papermill": {
     "duration": 0.011816,
     "end_time": "2024-01-25T22:27:55.478660",
     "exception": false,
     "start_time": "2024-01-25T22:27:55.466844",
     "status": "completed"
    },
    "tags": []
   },
   "source": [
    "### What is the abandonment rate?"
   ]
  },
  {
   "cell_type": "code",
   "execution_count": null,
   "id": "6ed8a1e2",
   "metadata": {
    "execution": {
     "iopub.execute_input": "2024-01-25T22:27:55.504463Z",
     "iopub.status.busy": "2024-01-25T22:27:55.503852Z",
     "iopub.status.idle": "2024-01-25T22:27:55.513574Z",
     "shell.execute_reply": "2024-01-25T22:27:55.512334Z"
    },
    "papermill": {
     "duration": 0.026256,
     "end_time": "2024-01-25T22:27:55.516840",
     "exception": false,
     "start_time": "2024-01-25T22:27:55.490584",
     "status": "completed"
    },
    "tags": []
   },
   "outputs": [],
   "source": [
    "abandonment_rate = df.abandono.value_counts(normalize=True)*100\n",
    "abandonment_rate"
   ]
  },
  {
   "cell_type": "code",
   "execution_count": null,
   "id": "b05d4dfc",
   "metadata": {
    "execution": {
     "iopub.execute_input": "2024-01-25T22:27:55.548099Z",
     "iopub.status.busy": "2024-01-25T22:27:55.547721Z",
     "iopub.status.idle": "2024-01-25T22:27:55.669807Z",
     "shell.execute_reply": "2024-01-25T22:27:55.669093Z"
    },
    "papermill": {
     "duration": 0.140579,
     "end_time": "2024-01-25T22:27:55.672501",
     "exception": false,
     "start_time": "2024-01-25T22:27:55.531922",
     "status": "completed"
    },
    "tags": []
   },
   "outputs": [],
   "source": [
    "plt.figure(figsize=(3,2))\n",
    "sns.barplot(x=abandonment_rate.index, y=abandonment_rate.values)"
   ]
  },
  {
   "cell_type": "markdown",
   "id": "9725a8e7",
   "metadata": {
    "papermill": {
     "duration": 0.017249,
     "end_time": "2024-01-25T22:27:55.708696",
     "exception": false,
     "start_time": "2024-01-25T22:27:55.691447",
     "status": "completed"
    },
    "tags": []
   },
   "source": [
    "### Is there a employee profile that leaves the company?"
   ]
  },
  {
   "cell_type": "code",
   "execution_count": null,
   "id": "25e2159e",
   "metadata": {
    "execution": {
     "iopub.execute_input": "2024-01-25T22:27:55.739088Z",
     "iopub.status.busy": "2024-01-25T22:27:55.738576Z",
     "iopub.status.idle": "2024-01-25T22:27:55.743326Z",
     "shell.execute_reply": "2024-01-25T22:27:55.742723Z"
    },
    "papermill": {
     "duration": 0.022738,
     "end_time": "2024-01-25T22:27:55.745802",
     "exception": false,
     "start_time": "2024-01-25T22:27:55.723064",
     "status": "completed"
    },
    "tags": []
   },
   "outputs": [],
   "source": [
    "# Transforming abandono values to numerical\n",
    "df['abandono'] = df.abandono.map({'No':0, 'Yes':1})"
   ]
  },
  {
   "cell_type": "code",
   "execution_count": null,
   "id": "5ee671c3",
   "metadata": {
    "execution": {
     "iopub.execute_input": "2024-01-25T22:27:55.773412Z",
     "iopub.status.busy": "2024-01-25T22:27:55.772909Z",
     "iopub.status.idle": "2024-01-25T22:27:55.908014Z",
     "shell.execute_reply": "2024-01-25T22:27:55.906735Z"
    },
    "papermill": {
     "duration": 0.15224,
     "end_time": "2024-01-25T22:27:55.911131",
     "exception": false,
     "start_time": "2024-01-25T22:27:55.758891",
     "status": "completed"
    },
    "tags": []
   },
   "outputs": [],
   "source": [
    "temp = df.groupby('educacion').abandono.mean().sort_values(ascending=False)*100\n",
    "plt.figure(figsize=(5, 2))\n",
    "ax = temp.plot.bar()\n",
    "ax.set_xticklabels(temp.index, rotation = 0)\n",
    "plt.show()"
   ]
  },
  {
   "cell_type": "code",
   "execution_count": null,
   "id": "340eab8a",
   "metadata": {
    "execution": {
     "iopub.execute_input": "2024-01-25T22:27:55.942003Z",
     "iopub.status.busy": "2024-01-25T22:27:55.941633Z",
     "iopub.status.idle": "2024-01-25T22:27:56.079369Z",
     "shell.execute_reply": "2024-01-25T22:27:56.077828Z"
    },
    "papermill": {
     "duration": 0.154823,
     "end_time": "2024-01-25T22:27:56.082204",
     "exception": false,
     "start_time": "2024-01-25T22:27:55.927381",
     "status": "completed"
    },
    "tags": []
   },
   "outputs": [],
   "source": [
    "temp = df.groupby('estado_civil').abandono.mean().sort_values(ascending=False)*100\n",
    "plt.figure(figsize=(5, 2))\n",
    "ax = temp.plot.bar()\n",
    "ax.set_xticklabels(temp.index, rotation = 0)\n",
    "plt.show()"
   ]
  },
  {
   "cell_type": "code",
   "execution_count": null,
   "id": "a1c30ee4",
   "metadata": {
    "execution": {
     "iopub.execute_input": "2024-01-25T22:27:56.115143Z",
     "iopub.status.busy": "2024-01-25T22:27:56.114787Z",
     "iopub.status.idle": "2024-01-25T22:27:56.272291Z",
     "shell.execute_reply": "2024-01-25T22:27:56.271299Z"
    },
    "papermill": {
     "duration": 0.174573,
     "end_time": "2024-01-25T22:27:56.274780",
     "exception": false,
     "start_time": "2024-01-25T22:27:56.100207",
     "status": "completed"
    },
    "tags": []
   },
   "outputs": [],
   "source": [
    "temp = df.groupby('horas_extra').abandono.mean().sort_values(ascending=False)*100\n",
    "plt.figure(figsize=(5, 3))\n",
    "ax = temp.plot.bar()\n",
    "ax.set_xticklabels(temp.index, rotation = 0)\n",
    "plt.show()"
   ]
  },
  {
   "cell_type": "code",
   "execution_count": null,
   "id": "b9b0f7c9",
   "metadata": {
    "execution": {
     "iopub.execute_input": "2024-01-25T22:27:56.318103Z",
     "iopub.status.busy": "2024-01-25T22:27:56.317626Z",
     "iopub.status.idle": "2024-01-25T22:27:56.686754Z",
     "shell.execute_reply": "2024-01-25T22:27:56.685441Z"
    },
    "papermill": {
     "duration": 0.393259,
     "end_time": "2024-01-25T22:27:56.690031",
     "exception": false,
     "start_time": "2024-01-25T22:27:56.296772",
     "status": "completed"
    },
    "tags": []
   },
   "outputs": [],
   "source": [
    "temp = df.groupby('puesto').abandono.mean().sort_values(ascending=False)*100\n",
    "plt.figure(figsize=(15, 6))\n",
    "ax = temp.plot.bar()\n",
    "ax.set_xticklabels(temp.index, rotation = 15)\n",
    "plt.show()"
   ]
  },
  {
   "cell_type": "code",
   "execution_count": null,
   "id": "117e640e",
   "metadata": {
    "execution": {
     "iopub.execute_input": "2024-01-25T22:27:56.721206Z",
     "iopub.status.busy": "2024-01-25T22:27:56.720056Z",
     "iopub.status.idle": "2024-01-25T22:27:56.866383Z",
     "shell.execute_reply": "2024-01-25T22:27:56.865384Z"
    },
    "papermill": {
     "duration": 0.163408,
     "end_time": "2024-01-25T22:27:56.868468",
     "exception": false,
     "start_time": "2024-01-25T22:27:56.705060",
     "status": "completed"
    },
    "tags": []
   },
   "outputs": [],
   "source": [
    "temp = df.groupby('abandono').salario_mes.mean().sort_values(ascending=False)\n",
    "plt.figure(figsize=(5, 3))\n",
    "ax = temp.plot.bar()\n",
    "ax.set_xticklabels(temp.index, rotation = 0)\n",
    "plt.show()"
   ]
  },
  {
   "cell_type": "markdown",
   "id": "3d036699",
   "metadata": {
    "papermill": {
     "duration": 0.013768,
     "end_time": "2024-01-25T22:27:56.897143",
     "exception": false,
     "start_time": "2024-01-25T22:27:56.883375",
     "status": "completed"
    },
    "tags": []
   },
   "source": [
    "### Profile\n",
    "* low educational level - Primaria\n",
    "* Single\n",
    "* Works in sales\n",
    "* Works overtime"
   ]
  },
  {
   "cell_type": "markdown",
   "id": "491a4e3e",
   "metadata": {
    "papermill": {
     "duration": 0.013592,
     "end_time": "2024-01-25T22:27:56.924755",
     "exception": false,
     "start_time": "2024-01-25T22:27:56.911163",
     "status": "completed"
    },
    "tags": []
   },
   "source": [
    "### Wich is the economic impact of this problem?"
   ]
  },
  {
   "cell_type": "code",
   "execution_count": null,
   "id": "5e66c9e6",
   "metadata": {
    "execution": {
     "iopub.execute_input": "2024-01-25T22:27:56.954939Z",
     "iopub.status.busy": "2024-01-25T22:27:56.954517Z",
     "iopub.status.idle": "2024-01-25T22:27:56.968509Z",
     "shell.execute_reply": "2024-01-25T22:27:56.967617Z"
    },
    "papermill": {
     "duration": 0.0316,
     "end_time": "2024-01-25T22:27:56.970416",
     "exception": false,
     "start_time": "2024-01-25T22:27:56.938816",
     "status": "completed"
    },
    "tags": []
   },
   "outputs": [],
   "source": [
    "# Creating a new variable anual_salary\n",
    "df['salario_anual'] = df.salario_mes.transform(lambda x: x*12)\n",
    "df[['salario_mes', 'salario_anual']]"
   ]
  },
  {
   "cell_type": "code",
   "execution_count": null,
   "id": "bfedb86e",
   "metadata": {
    "execution": {
     "iopub.execute_input": "2024-01-25T22:27:57.005047Z",
     "iopub.status.busy": "2024-01-25T22:27:57.004350Z",
     "iopub.status.idle": "2024-01-25T22:27:57.032513Z",
     "shell.execute_reply": "2024-01-25T22:27:57.030869Z"
    },
    "papermill": {
     "duration": 0.048877,
     "end_time": "2024-01-25T22:27:57.034850",
     "exception": false,
     "start_time": "2024-01-25T22:27:56.985973",
     "status": "completed"
    },
    "tags": []
   },
   "outputs": [],
   "source": [
    "# Calculte the economic impact if the employee leave the company\n",
    "conditions = [(df['salario_anual'] <= 30000),\n",
    "              (df['salario_anual'] > 30000) & (df['salario_anual'] < 50000),\n",
    "              (df['salario_anual'] > 50000) & (df['salario_anual'] <= 75000),\n",
    "              (df['salario_anual'] > 75000)]\n",
    "\n",
    "results = [df.salario_anual * 0.161, df.salario_anual * 0.197,\\\n",
    "           df.salario_anual * 0.204, df.salario_anual * 0.21]\n",
    "\n",
    "df['impacto_abandono'] = np.select(conditions, results, default=-999)\n",
    "df.head()"
   ]
  },
  {
   "cell_type": "markdown",
   "id": "6d70e958",
   "metadata": {
    "papermill": {
     "duration": 0.014049,
     "end_time": "2024-01-25T22:27:57.063785",
     "exception": false,
     "start_time": "2024-01-25T22:27:57.049736",
     "status": "completed"
    },
    "tags": []
   },
   "source": [
    "### How much has this problem cost us in the last year?"
   ]
  },
  {
   "cell_type": "code",
   "execution_count": null,
   "id": "403f9a16",
   "metadata": {
    "execution": {
     "iopub.execute_input": "2024-01-25T22:27:57.095288Z",
     "iopub.status.busy": "2024-01-25T22:27:57.094451Z",
     "iopub.status.idle": "2024-01-25T22:27:57.103597Z",
     "shell.execute_reply": "2024-01-25T22:27:57.102565Z"
    },
    "papermill": {
     "duration": 0.027419,
     "end_time": "2024-01-25T22:27:57.105602",
     "exception": false,
     "start_time": "2024-01-25T22:27:57.078183",
     "status": "completed"
    },
    "tags": []
   },
   "outputs": [],
   "source": [
    "coste_total = df.loc[df.abandono == 1].impacto_abandono.sum()\n",
    "coste_total"
   ]
  },
  {
   "cell_type": "markdown",
   "id": "e5b522c0",
   "metadata": {
    "papermill": {
     "duration": 0.014563,
     "end_time": "2024-01-25T22:27:57.135611",
     "exception": false,
     "start_time": "2024-01-25T22:27:57.121048",
     "status": "completed"
    },
    "tags": []
   },
   "source": [
    "### How much does it cost us that employees aren't motivated?"
   ]
  },
  {
   "cell_type": "code",
   "execution_count": null,
   "id": "db7c6525",
   "metadata": {
    "execution": {
     "iopub.execute_input": "2024-01-25T22:27:57.167259Z",
     "iopub.status.busy": "2024-01-25T22:27:57.166706Z",
     "iopub.status.idle": "2024-01-25T22:27:57.179693Z",
     "shell.execute_reply": "2024-01-25T22:27:57.177767Z"
    },
    "papermill": {
     "duration": 0.032167,
     "end_time": "2024-01-25T22:27:57.182292",
     "exception": false,
     "start_time": "2024-01-25T22:27:57.150125",
     "status": "completed"
    },
    "tags": []
   },
   "outputs": [],
   "source": [
    "df.loc[(df.abandono == 1) & (df.implicacion == 'Baja')].impacto_abandono.sum()"
   ]
  },
  {
   "cell_type": "markdown",
   "id": "dcea1e68",
   "metadata": {
    "papermill": {
     "duration": 0.014987,
     "end_time": "2024-01-25T22:27:57.212377",
     "exception": false,
     "start_time": "2024-01-25T22:27:57.197390",
     "status": "completed"
    },
    "tags": []
   },
   "source": [
    "### How much could we save by building employee loyalty?"
   ]
  },
  {
   "cell_type": "code",
   "execution_count": null,
   "id": "905708b6",
   "metadata": {
    "execution": {
     "iopub.execute_input": "2024-01-25T22:27:57.244544Z",
     "iopub.status.busy": "2024-01-25T22:27:57.243557Z",
     "iopub.status.idle": "2024-01-25T22:27:57.250354Z",
     "shell.execute_reply": "2024-01-25T22:27:57.248965Z"
    },
    "papermill": {
     "duration": 0.025031,
     "end_time": "2024-01-25T22:27:57.252322",
     "exception": false,
     "start_time": "2024-01-25T22:27:57.227291",
     "status": "completed"
    },
    "tags": []
   },
   "outputs": [],
   "source": [
    "print(f\"Reducir un 10% la fuga de empleados nos ahorraría {int(coste_total * 0.1)}$ cada año.\")\n",
    "\n",
    "print(f\"Reducir un 20% la fuga de empleados nos ahorraría {int(coste_total * 0.2)}$ cada año.\")\n",
    "\n",
    "print(f\"Reducir un 30% la fuga de empleados nos ahorraría {int(coste_total * 0.3)}$ cada año.\")"
   ]
  },
  {
   "cell_type": "code",
   "execution_count": null,
   "id": "06a3dfbe",
   "metadata": {
    "papermill": {
     "duration": 0.01429,
     "end_time": "2024-01-25T22:27:57.281505",
     "exception": false,
     "start_time": "2024-01-25T22:27:57.267215",
     "status": "completed"
    },
    "tags": []
   },
   "outputs": [],
   "source": []
  }
 ],
 "metadata": {
  "kaggle": {
   "accelerator": "none",
   "dataSources": [
    {
     "datasetId": 4345556,
     "sourceId": 7465462,
     "sourceType": "datasetVersion"
    }
   ],
   "dockerImageVersionId": 30635,
   "isGpuEnabled": false,
   "isInternetEnabled": true,
   "language": "python",
   "sourceType": "notebook"
  },
  "kernelspec": {
   "display_name": "Python 3",
   "language": "python",
   "name": "python3"
  },
  "language_info": {
   "codemirror_mode": {
    "name": "ipython",
    "version": 3
   },
   "file_extension": ".py",
   "mimetype": "text/x-python",
   "name": "python",
   "nbconvert_exporter": "python",
   "pygments_lexer": "ipython3",
   "version": "3.11.1"
  },
  "papermill": {
   "default_parameters": {},
   "duration": 10.824882,
   "end_time": "2024-01-25T22:27:58.118987",
   "environment_variables": {},
   "exception": null,
   "input_path": "__notebook__.ipynb",
   "output_path": "__notebook__.ipynb",
   "parameters": {},
   "start_time": "2024-01-25T22:27:47.294105",
   "version": "2.4.0"
  }
 },
 "nbformat": 4,
 "nbformat_minor": 5
}
